{
 "cells": [
  {
   "cell_type": "markdown",
   "id": "927991c8-4afb-4f36-abd7-c8ff386c6d4e",
   "metadata": {},
   "source": [
    "# Cencus Income Classification"
   ]
  },
  {
   "cell_type": "code",
   "execution_count": null,
   "id": "e546dd39-feb7-4679-bfb8-4f70a4535972",
   "metadata": {},
   "outputs": [],
   "source": []
  },
  {
   "cell_type": "markdown",
   "id": "30ce0d6e-9497-4085-83df-9f4d55f29938",
   "metadata": {},
   "source": [
    "# Importing required packages"
   ]
  },
  {
   "cell_type": "code",
   "execution_count": null,
   "id": "164d37c8-1c2b-4cb6-b1ed-c5580a39eaf2",
   "metadata": {},
   "outputs": [],
   "source": []
  },
  {
   "cell_type": "markdown",
   "id": "02e1c44f-25b5-48e9-9cb8-0d817c1e381f",
   "metadata": {},
   "source": [
    "# Step 1: Preliminary Analysis"
   ]
  },
  {
   "cell_type": "code",
   "execution_count": null,
   "id": "912d3fbb-43f7-4f10-92d9-49a8d01c8d1b",
   "metadata": {},
   "outputs": [],
   "source": []
  },
  {
   "cell_type": "markdown",
   "id": "dd617e0e-e0c1-4d1e-9b6a-58cf719a4a8a",
   "metadata": {},
   "source": [
    "## Number of independent and dependent variables:"
   ]
  },
  {
   "cell_type": "code",
   "execution_count": null,
   "id": "54cd6a16-5611-49e6-8483-1eac02964a84",
   "metadata": {},
   "outputs": [],
   "source": []
  },
  {
   "cell_type": "markdown",
   "id": "a4651740-224b-4b57-b307-3bf40fa697b7",
   "metadata": {},
   "source": [
    "## Number of records:¶"
   ]
  },
  {
   "cell_type": "code",
   "execution_count": null,
   "id": "1a343d6b-a6d8-47fc-9b6b-57798b5ef282",
   "metadata": {},
   "outputs": [],
   "source": []
  },
  {
   "cell_type": "markdown",
   "id": "5caed949-e2e3-4e00-a29d-a60ba5ba9fbf",
   "metadata": {},
   "source": [
    "## Data types of variables:"
   ]
  },
  {
   "cell_type": "code",
   "execution_count": null,
   "id": "2ebe06d7-3973-4744-90c6-5a6b9f407eb6",
   "metadata": {},
   "outputs": [],
   "source": []
  },
  {
   "cell_type": "markdown",
   "id": "12d83b54-dfbf-43a7-90c4-bb2498ea9fa9",
   "metadata": {},
   "source": [
    "## Summary Statistics"
   ]
  },
  {
   "cell_type": "code",
   "execution_count": null,
   "id": "3f7454a5-06a0-45b9-9c5f-dbaa40ba9090",
   "metadata": {},
   "outputs": [],
   "source": []
  },
  {
   "cell_type": "markdown",
   "id": "bca1606e-a869-412f-8d5f-68b7fa738da3",
   "metadata": {},
   "source": [
    "# Step 2: Data Cleaning"
   ]
  },
  {
   "cell_type": "markdown",
   "id": "c36e2bf9-4248-4497-93fe-e8fcc6f6418b",
   "metadata": {},
   "source": [
    "## Checking for Null Values"
   ]
  },
  {
   "cell_type": "code",
   "execution_count": null,
   "id": "e1b12a55-61cf-438a-8a9e-50cdd81accb4",
   "metadata": {},
   "outputs": [],
   "source": []
  },
  {
   "cell_type": "markdown",
   "id": "441949b0-d766-4093-8dc0-f1533ad7c3c3",
   "metadata": {},
   "source": [
    "## Checking for unique values"
   ]
  },
  {
   "cell_type": "code",
   "execution_count": null,
   "id": "b36af9ed-435f-437a-997f-f4a8c41ef1ed",
   "metadata": {},
   "outputs": [],
   "source": []
  },
  {
   "cell_type": "markdown",
   "id": "f5ee53f4-8bd5-4868-9b98-e21511107ce5",
   "metadata": {},
   "source": [
    "## All Features"
   ]
  },
  {
   "cell_type": "code",
   "execution_count": null,
   "id": "165a3832-110c-4fa8-8930-8b0482bef753",
   "metadata": {},
   "outputs": [],
   "source": []
  },
  {
   "cell_type": "markdown",
   "id": "d81f7280-482e-4fb9-87a5-407ea1a023ad",
   "metadata": {},
   "source": [
    "## Checking for low variance:"
   ]
  },
  {
   "cell_type": "code",
   "execution_count": null,
   "id": "e8e90a2a-c9fe-45af-958c-6eeeffd90160",
   "metadata": {},
   "outputs": [],
   "source": []
  },
  {
   "cell_type": "markdown",
   "id": "1cae9a16-33ab-4c83-90fb-b24f79a8f52b",
   "metadata": {},
   "source": [
    "## Checking & handling for duplicates"
   ]
  },
  {
   "cell_type": "code",
   "execution_count": null,
   "id": "4f9dc820-a52b-4181-bbfd-b928492e0dcd",
   "metadata": {},
   "outputs": [],
   "source": []
  },
  {
   "cell_type": "markdown",
   "id": "7e3bc48c-73f0-4802-ba20-ed36831d53c9",
   "metadata": {},
   "source": [
    "## Handling Missing Values"
   ]
  },
  {
   "cell_type": "code",
   "execution_count": null,
   "id": "ac463d5d-9002-4ca2-8475-58e481b85e02",
   "metadata": {},
   "outputs": [],
   "source": []
  },
  {
   "cell_type": "markdown",
   "id": "e914c618-24c4-43d6-9df5-1297c1fb353d",
   "metadata": {},
   "source": [
    "## Unique counts of categories in columns"
   ]
  },
  {
   "cell_type": "code",
   "execution_count": null,
   "id": "d8ec3442-363d-4f46-b16e-7f868d7f0126",
   "metadata": {},
   "outputs": [],
   "source": []
  },
  {
   "cell_type": "markdown",
   "id": "242476d4-64dd-4602-ae30-60b52d81561b",
   "metadata": {},
   "source": [
    "## Copy of Original Data"
   ]
  },
  {
   "cell_type": "code",
   "execution_count": null,
   "id": "f93224fe-343a-4596-9142-b8eaf32f3c55",
   "metadata": {},
   "outputs": [],
   "source": []
  },
  {
   "cell_type": "markdown",
   "id": "9642a3e6-b1e6-4b13-b6d6-1d182597f1c3",
   "metadata": {},
   "source": [
    "# Step 3: Feature Engineering"
   ]
  },
  {
   "cell_type": "markdown",
   "id": "bfe99016-0595-4744-ac7b-b1decafdc5dc",
   "metadata": {},
   "source": [
    "# Step 4: Train & Test Split"
   ]
  },
  {
   "cell_type": "code",
   "execution_count": null,
   "id": "c1bd08d3-f843-4762-a81b-0e3528fa94be",
   "metadata": {},
   "outputs": [],
   "source": []
  },
  {
   "cell_type": "markdown",
   "id": "14b042ee-a020-4f55-8636-a59ff17733b4",
   "metadata": {},
   "source": [
    "## Print the number of records in the training and testing data"
   ]
  },
  {
   "cell_type": "code",
   "execution_count": null,
   "id": "77254491-e85d-4bfb-8693-3bb14f737d63",
   "metadata": {},
   "outputs": [],
   "source": []
  },
  {
   "cell_type": "markdown",
   "id": "80e9c705-ee39-4746-9d45-bf7b78198bda",
   "metadata": {},
   "source": [
    "## Save training data to CSV"
   ]
  },
  {
   "cell_type": "code",
   "execution_count": null,
   "id": "921df432-fbc4-46dc-9b1e-86110152fca4",
   "metadata": {},
   "outputs": [],
   "source": []
  },
  {
   "cell_type": "markdown",
   "id": "e272f94e-c37f-4c4e-b313-4a4ea8712ffa",
   "metadata": {},
   "source": [
    "## Save testing data to CSV"
   ]
  },
  {
   "cell_type": "code",
   "execution_count": null,
   "id": "0d493fff-eb0a-496f-96aa-4c27890ad83c",
   "metadata": {},
   "outputs": [],
   "source": []
  },
  {
   "cell_type": "markdown",
   "id": "07d7f5a0-3f1c-4b23-b675-eb08443bda21",
   "metadata": {},
   "source": [
    "# Step 5: Feature Scaling"
   ]
  },
  {
   "cell_type": "code",
   "execution_count": null,
   "id": "4c631613-c1ac-451e-be83-076a8d2668b0",
   "metadata": {},
   "outputs": [],
   "source": []
  },
  {
   "cell_type": "markdown",
   "id": "40a504bb-7baf-4f48-96c4-0ef92e057b2f",
   "metadata": {},
   "source": [
    "# Step 6: Logistic Regression"
   ]
  },
  {
   "cell_type": "code",
   "execution_count": null,
   "id": "0cd964ed-c62e-4a17-963d-f4924ac7d03a",
   "metadata": {},
   "outputs": [],
   "source": []
  },
  {
   "cell_type": "markdown",
   "id": "06751f20-871b-4353-8513-f1ad337cc90b",
   "metadata": {},
   "source": [
    "# Step 7: Random Forest"
   ]
  },
  {
   "cell_type": "code",
   "execution_count": null,
   "id": "f75dedcf-90ba-4db0-9b8f-0778727b776e",
   "metadata": {},
   "outputs": [],
   "source": []
  }
 ],
 "metadata": {
  "kernelspec": {
   "display_name": "R",
   "language": "R",
   "name": "ir"
  },
  "language_info": {
   "codemirror_mode": "r",
   "file_extension": ".r",
   "mimetype": "text/x-r-source",
   "name": "R",
   "pygments_lexer": "r",
   "version": "4.3.2"
  }
 },
 "nbformat": 4,
 "nbformat_minor": 5
}
