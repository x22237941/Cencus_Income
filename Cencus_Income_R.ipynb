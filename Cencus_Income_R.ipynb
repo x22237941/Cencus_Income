{
 "cells": [
  {
   "cell_type": "markdown",
   "id": "927991c8-4afb-4f36-abd7-c8ff386c6d4e",
   "metadata": {},
   "source": [
    "# Cencus Income Classification"
   ]
  },
  {
   "cell_type": "markdown",
   "id": "f720fdb5-bbc9-4751-9a9b-3774ee95ac8e",
   "metadata": {},
   "source": [
    "The Goal is to predict whether a person has an income of more than 50K a year or not."
   ]
  },
  {
   "cell_type": "markdown",
   "id": "30ce0d6e-9497-4085-83df-9f4d55f29938",
   "metadata": {},
   "source": [
    "# Importing required packages"
   ]
  },
  {
   "cell_type": "code",
   "execution_count": 1,
   "id": "164d37c8-1c2b-4cb6-b1ed-c5580a39eaf2",
   "metadata": {},
   "outputs": [
    {
     "name": "stderr",
     "output_type": "stream",
     "text": [
      "Warning message:\n",
      "\"package 'dplyr' was built under R version 4.3.3\"\n",
      "\n",
      "Attaching package: 'dplyr'\n",
      "\n",
      "\n",
      "The following objects are masked from 'package:stats':\n",
      "\n",
      "    filter, lag\n",
      "\n",
      "\n",
      "The following objects are masked from 'package:base':\n",
      "\n",
      "    intersect, setdiff, setequal, union\n",
      "\n",
      "\n"
     ]
    }
   ],
   "source": [
    "library(readr)\n",
    "library(dplyr)\n",
    "library(ggplot2)"
   ]
  },
  {
   "cell_type": "markdown",
   "id": "02e1c44f-25b5-48e9-9cb8-0d817c1e381f",
   "metadata": {},
   "source": [
    "# Step 1: Preliminary Analysis"
   ]
  },
  {
   "cell_type": "code",
   "execution_count": 3,
   "id": "515b4de9-b6ba-41af-abf9-b04f10cc853f",
   "metadata": {},
   "outputs": [],
   "source": [
    "# Defining column types\n",
    "column_types <- cols(\n",
    "  age = col_integer(),\n",
    "  workclass = col_character(),\n",
    "  fnlwgt = col_integer(),\n",
    "  education = col_character(),\n",
    "  education_num = col_integer(),  # Assuming education-num in Python corresponds to education_num\n",
    "  marital_status = col_character(),  # Assuming marital-status in Python corresponds to marital_status\n",
    "  occupation = col_character(),\n",
    "  relationship = col_character(),\n",
    "  race = col_character(),\n",
    "  sex = col_character(),\n",
    "  capital_gain = col_integer(),  # If very large values, consider col_double()\n",
    "  capital_loss = col_integer(),  # If very large values, consider col_double()\n",
    "  hours_per_week = col_integer(),  # Assuming hours-per-week in Python corresponds to hours_per_week\n",
    "  native_country = col_character(),  # Assuming native-country in Python corresponds to native_country\n",
    "  income = col_character()\n",
    ")\n"
   ]
  },
  {
   "cell_type": "code",
   "execution_count": 4,
   "id": "912d3fbb-43f7-4f10-92d9-49a8d01c8d1b",
   "metadata": {},
   "outputs": [
    {
     "name": "stderr",
     "output_type": "stream",
     "text": [
      "Warning message:\n",
      "\"The following named parsers don't match the column names: education_num, marital_status, capital_gain, capital_loss, hours_per_week, native_country\"\n"
     ]
    }
   ],
   "source": [
    "# Reading the CSV file with specified column types\n",
    "df <- read_csv('census_income.csv', col_types = column_types, show_col_types = FALSE)"
   ]
  },
  {
   "cell_type": "code",
   "execution_count": 5,
   "id": "b91b315f-78d4-4ca3-b932-5e0a0bf7e4df",
   "metadata": {},
   "outputs": [
    {
     "data": {
      "text/html": [
       "<table class=\"dataframe\">\n",
       "<caption>A tibble: 6 × 15</caption>\n",
       "<thead>\n",
       "\t<tr><th scope=col>age</th><th scope=col>workclass</th><th scope=col>fnlwgt</th><th scope=col>education</th><th scope=col>education-num</th><th scope=col>marital-status</th><th scope=col>occupation</th><th scope=col>relationship</th><th scope=col>race</th><th scope=col>sex</th><th scope=col>capital-gain</th><th scope=col>capital-loss</th><th scope=col>hours-per-week</th><th scope=col>native-country</th><th scope=col>income</th></tr>\n",
       "\t<tr><th scope=col>&lt;int&gt;</th><th scope=col>&lt;chr&gt;</th><th scope=col>&lt;int&gt;</th><th scope=col>&lt;chr&gt;</th><th scope=col>&lt;dbl&gt;</th><th scope=col>&lt;chr&gt;</th><th scope=col>&lt;chr&gt;</th><th scope=col>&lt;chr&gt;</th><th scope=col>&lt;chr&gt;</th><th scope=col>&lt;chr&gt;</th><th scope=col>&lt;dbl&gt;</th><th scope=col>&lt;dbl&gt;</th><th scope=col>&lt;dbl&gt;</th><th scope=col>&lt;chr&gt;</th><th scope=col>&lt;chr&gt;</th></tr>\n",
       "</thead>\n",
       "<tbody>\n",
       "\t<tr><td>39</td><td><span style=white-space:pre-wrap>State-gov       </span></td><td> 77516</td><td>Bachelors</td><td>13</td><td><span style=white-space:pre-wrap>Never-married     </span></td><td><span style=white-space:pre-wrap>Adm-clerical     </span></td><td>Not-in-family</td><td>White</td><td><span style=white-space:pre-wrap>Male  </span></td><td>2174</td><td>0</td><td>40</td><td>United-States</td><td>&lt;=50K</td></tr>\n",
       "\t<tr><td>50</td><td>Self-emp-not-inc</td><td> 83311</td><td>Bachelors</td><td>13</td><td>Married-civ-spouse</td><td><span style=white-space:pre-wrap>Exec-managerial  </span></td><td><span style=white-space:pre-wrap>Husband      </span></td><td>White</td><td><span style=white-space:pre-wrap>Male  </span></td><td><span style=white-space:pre-wrap>   0</span></td><td>0</td><td>13</td><td>United-States</td><td>&lt;=50K</td></tr>\n",
       "\t<tr><td>38</td><td><span style=white-space:pre-wrap>Private         </span></td><td>215646</td><td><span style=white-space:pre-wrap>HS-grad  </span></td><td> 9</td><td><span style=white-space:pre-wrap>Divorced          </span></td><td>Handlers-cleaners</td><td>Not-in-family</td><td>White</td><td><span style=white-space:pre-wrap>Male  </span></td><td><span style=white-space:pre-wrap>   0</span></td><td>0</td><td>40</td><td>United-States</td><td>&lt;=50K</td></tr>\n",
       "\t<tr><td>53</td><td><span style=white-space:pre-wrap>Private         </span></td><td>234721</td><td><span style=white-space:pre-wrap>11th     </span></td><td> 7</td><td>Married-civ-spouse</td><td>Handlers-cleaners</td><td><span style=white-space:pre-wrap>Husband      </span></td><td>Black</td><td><span style=white-space:pre-wrap>Male  </span></td><td><span style=white-space:pre-wrap>   0</span></td><td>0</td><td>40</td><td>United-States</td><td>&lt;=50K</td></tr>\n",
       "\t<tr><td>28</td><td><span style=white-space:pre-wrap>Private         </span></td><td>338409</td><td>Bachelors</td><td>13</td><td>Married-civ-spouse</td><td><span style=white-space:pre-wrap>Prof-specialty   </span></td><td><span style=white-space:pre-wrap>Wife         </span></td><td>Black</td><td>Female</td><td><span style=white-space:pre-wrap>   0</span></td><td>0</td><td>40</td><td><span style=white-space:pre-wrap>Cuba         </span></td><td>&lt;=50K</td></tr>\n",
       "\t<tr><td>37</td><td><span style=white-space:pre-wrap>Private         </span></td><td>284582</td><td><span style=white-space:pre-wrap>Masters  </span></td><td>14</td><td>Married-civ-spouse</td><td><span style=white-space:pre-wrap>Exec-managerial  </span></td><td><span style=white-space:pre-wrap>Wife         </span></td><td>White</td><td>Female</td><td><span style=white-space:pre-wrap>   0</span></td><td>0</td><td>40</td><td>United-States</td><td>&lt;=50K</td></tr>\n",
       "</tbody>\n",
       "</table>\n"
      ],
      "text/latex": [
       "A tibble: 6 × 15\n",
       "\\begin{tabular}{lllllllllllllll}\n",
       " age & workclass & fnlwgt & education & education-num & marital-status & occupation & relationship & race & sex & capital-gain & capital-loss & hours-per-week & native-country & income\\\\\n",
       " <int> & <chr> & <int> & <chr> & <dbl> & <chr> & <chr> & <chr> & <chr> & <chr> & <dbl> & <dbl> & <dbl> & <chr> & <chr>\\\\\n",
       "\\hline\n",
       "\t 39 & State-gov        &  77516 & Bachelors & 13 & Never-married      & Adm-clerical      & Not-in-family & White & Male   & 2174 & 0 & 40 & United-States & <=50K\\\\\n",
       "\t 50 & Self-emp-not-inc &  83311 & Bachelors & 13 & Married-civ-spouse & Exec-managerial   & Husband       & White & Male   &    0 & 0 & 13 & United-States & <=50K\\\\\n",
       "\t 38 & Private          & 215646 & HS-grad   &  9 & Divorced           & Handlers-cleaners & Not-in-family & White & Male   &    0 & 0 & 40 & United-States & <=50K\\\\\n",
       "\t 53 & Private          & 234721 & 11th      &  7 & Married-civ-spouse & Handlers-cleaners & Husband       & Black & Male   &    0 & 0 & 40 & United-States & <=50K\\\\\n",
       "\t 28 & Private          & 338409 & Bachelors & 13 & Married-civ-spouse & Prof-specialty    & Wife          & Black & Female &    0 & 0 & 40 & Cuba          & <=50K\\\\\n",
       "\t 37 & Private          & 284582 & Masters   & 14 & Married-civ-spouse & Exec-managerial   & Wife          & White & Female &    0 & 0 & 40 & United-States & <=50K\\\\\n",
       "\\end{tabular}\n"
      ],
      "text/markdown": [
       "\n",
       "A tibble: 6 × 15\n",
       "\n",
       "| age &lt;int&gt; | workclass &lt;chr&gt; | fnlwgt &lt;int&gt; | education &lt;chr&gt; | education-num &lt;dbl&gt; | marital-status &lt;chr&gt; | occupation &lt;chr&gt; | relationship &lt;chr&gt; | race &lt;chr&gt; | sex &lt;chr&gt; | capital-gain &lt;dbl&gt; | capital-loss &lt;dbl&gt; | hours-per-week &lt;dbl&gt; | native-country &lt;chr&gt; | income &lt;chr&gt; |\n",
       "|---|---|---|---|---|---|---|---|---|---|---|---|---|---|---|\n",
       "| 39 | State-gov        |  77516 | Bachelors | 13 | Never-married      | Adm-clerical      | Not-in-family | White | Male   | 2174 | 0 | 40 | United-States | &lt;=50K |\n",
       "| 50 | Self-emp-not-inc |  83311 | Bachelors | 13 | Married-civ-spouse | Exec-managerial   | Husband       | White | Male   |    0 | 0 | 13 | United-States | &lt;=50K |\n",
       "| 38 | Private          | 215646 | HS-grad   |  9 | Divorced           | Handlers-cleaners | Not-in-family | White | Male   |    0 | 0 | 40 | United-States | &lt;=50K |\n",
       "| 53 | Private          | 234721 | 11th      |  7 | Married-civ-spouse | Handlers-cleaners | Husband       | Black | Male   |    0 | 0 | 40 | United-States | &lt;=50K |\n",
       "| 28 | Private          | 338409 | Bachelors | 13 | Married-civ-spouse | Prof-specialty    | Wife          | Black | Female |    0 | 0 | 40 | Cuba          | &lt;=50K |\n",
       "| 37 | Private          | 284582 | Masters   | 14 | Married-civ-spouse | Exec-managerial   | Wife          | White | Female |    0 | 0 | 40 | United-States | &lt;=50K |\n",
       "\n"
      ],
      "text/plain": [
       "  age workclass        fnlwgt education education-num marital-status    \n",
       "1 39  State-gov         77516 Bachelors 13            Never-married     \n",
       "2 50  Self-emp-not-inc  83311 Bachelors 13            Married-civ-spouse\n",
       "3 38  Private          215646 HS-grad    9            Divorced          \n",
       "4 53  Private          234721 11th       7            Married-civ-spouse\n",
       "5 28  Private          338409 Bachelors 13            Married-civ-spouse\n",
       "6 37  Private          284582 Masters   14            Married-civ-spouse\n",
       "  occupation        relationship  race  sex    capital-gain capital-loss\n",
       "1 Adm-clerical      Not-in-family White Male   2174         0           \n",
       "2 Exec-managerial   Husband       White Male      0         0           \n",
       "3 Handlers-cleaners Not-in-family White Male      0         0           \n",
       "4 Handlers-cleaners Husband       Black Male      0         0           \n",
       "5 Prof-specialty    Wife          Black Female    0         0           \n",
       "6 Exec-managerial   Wife          White Female    0         0           \n",
       "  hours-per-week native-country income\n",
       "1 40             United-States  <=50K \n",
       "2 13             United-States  <=50K \n",
       "3 40             United-States  <=50K \n",
       "4 40             United-States  <=50K \n",
       "5 40             Cuba           <=50K \n",
       "6 40             United-States  <=50K "
      ]
     },
     "metadata": {},
     "output_type": "display_data"
    }
   ],
   "source": [
    "head(df)"
   ]
  },
  {
   "cell_type": "markdown",
   "id": "dd617e0e-e0c1-4d1e-9b6a-58cf719a4a8a",
   "metadata": {},
   "source": [
    "## Number of independent and dependent variables:"
   ]
  },
  {
   "cell_type": "code",
   "execution_count": 6,
   "id": "54cd6a16-5611-49e6-8483-1eac02964a84",
   "metadata": {},
   "outputs": [],
   "source": [
    "independent_vars <- names(df)[1:(ncol(df)-1)]\n",
    "dependent_var <- names(df)[ncol(df)]"
   ]
  },
  {
   "cell_type": "code",
   "execution_count": 7,
   "id": "da1cccf0-9f86-4458-8ad3-07a3dbaa4b52",
   "metadata": {},
   "outputs": [
    {
     "name": "stdout",
     "output_type": "stream",
     "text": [
      "Number of independent variables: 14 \n",
      "Number of dependent variables: 1\n"
     ]
    }
   ],
   "source": [
    "cat(\"Number of independent variables:\", length(independent_vars), \"\\n\")\n",
    "cat(\"Number of dependent variables: 1\\n\")"
   ]
  },
  {
   "cell_type": "markdown",
   "id": "a4651740-224b-4b57-b307-3bf40fa697b7",
   "metadata": {},
   "source": [
    "## Number of records:¶"
   ]
  },
  {
   "cell_type": "code",
   "execution_count": 8,
   "id": "1a343d6b-a6d8-47fc-9b6b-57798b5ef282",
   "metadata": {},
   "outputs": [
    {
     "name": "stdout",
     "output_type": "stream",
     "text": [
      "Number of records: 48842 \n"
     ]
    }
   ],
   "source": [
    "cat(\"Number of records:\", nrow(df), \"\\n\")"
   ]
  },
  {
   "cell_type": "code",
   "execution_count": 9,
   "id": "e3390fdb-c925-4cb8-a6b8-8af313f86b6e",
   "metadata": {},
   "outputs": [
    {
     "name": "stdout",
     "output_type": "stream",
     "text": [
      "Dimensions of the DataFrame:  48842 15 \n"
     ]
    }
   ],
   "source": [
    "cat(\"Dimensions of the DataFrame: \", dim(df), \"\\n\")"
   ]
  },
  {
   "cell_type": "markdown",
   "id": "5caed949-e2e3-4e00-a29d-a60ba5ba9fbf",
   "metadata": {},
   "source": [
    "## Data types of variables:"
   ]
  },
  {
   "cell_type": "code",
   "execution_count": 10,
   "id": "2ebe06d7-3973-4744-90c6-5a6b9f407eb6",
   "metadata": {},
   "outputs": [
    {
     "name": "stdout",
     "output_type": "stream",
     "text": [
      "Data types of variables:\n",
      "           age      workclass         fnlwgt      education  education-num \n",
      "     \"integer\"    \"character\"      \"integer\"    \"character\"      \"numeric\" \n",
      "marital-status     occupation   relationship           race            sex \n",
      "   \"character\"    \"character\"    \"character\"    \"character\"    \"character\" \n",
      "  capital-gain   capital-loss hours-per-week native-country         income \n",
      "     \"numeric\"      \"numeric\"      \"numeric\"    \"character\"    \"character\" \n"
     ]
    }
   ],
   "source": [
    "cat(\"Data types of variables:\\n\")\n",
    "print(sapply(df, class))"
   ]
  },
  {
   "cell_type": "markdown",
   "id": "12d83b54-dfbf-43a7-90c4-bb2498ea9fa9",
   "metadata": {},
   "source": [
    "## Summary Statistics"
   ]
  },
  {
   "cell_type": "code",
   "execution_count": 11,
   "id": "3f7454a5-06a0-45b9-9c5f-dbaa40ba9090",
   "metadata": {},
   "outputs": [
    {
     "data": {
      "text/plain": [
       "      age         workclass             fnlwgt         education        \n",
       " Min.   :17.00   Length:48842       Min.   :  12285   Length:48842      \n",
       " 1st Qu.:28.00   Class :character   1st Qu.: 117551   Class :character  \n",
       " Median :37.00   Mode  :character   Median : 178145   Mode  :character  \n",
       " Mean   :38.64                      Mean   : 189664                     \n",
       " 3rd Qu.:48.00                      3rd Qu.: 237642                     \n",
       " Max.   :90.00                      Max.   :1490400                     \n",
       " education-num   marital-status      occupation        relationship      \n",
       " Min.   : 1.00   Length:48842       Length:48842       Length:48842      \n",
       " 1st Qu.: 9.00   Class :character   Class :character   Class :character  \n",
       " Median :10.00   Mode  :character   Mode  :character   Mode  :character  \n",
       " Mean   :10.08                                                           \n",
       " 3rd Qu.:12.00                                                           \n",
       " Max.   :16.00                                                           \n",
       "     race               sex             capital-gain    capital-loss   \n",
       " Length:48842       Length:48842       Min.   :    0   Min.   :   0.0  \n",
       " Class :character   Class :character   1st Qu.:    0   1st Qu.:   0.0  \n",
       " Mode  :character   Mode  :character   Median :    0   Median :   0.0  \n",
       "                                       Mean   : 1079   Mean   :  87.5  \n",
       "                                       3rd Qu.:    0   3rd Qu.:   0.0  \n",
       "                                       Max.   :99999   Max.   :4356.0  \n",
       " hours-per-week  native-country        income         \n",
       " Min.   : 1.00   Length:48842       Length:48842      \n",
       " 1st Qu.:40.00   Class :character   Class :character  \n",
       " Median :40.00   Mode  :character   Mode  :character  \n",
       " Mean   :40.42                                        \n",
       " 3rd Qu.:45.00                                        \n",
       " Max.   :99.00                                        "
      ]
     },
     "metadata": {},
     "output_type": "display_data"
    }
   ],
   "source": [
    "summary(df)"
   ]
  },
  {
   "cell_type": "code",
   "execution_count": 12,
   "id": "eab76f7d-3eb2-4f19-8723-0d61f3c5d6c1",
   "metadata": {},
   "outputs": [],
   "source": [
    "# Converting specified columns to factors\n",
    "df <- df %>%\n",
    "  mutate(\n",
    "    workclass = as.factor(workclass),\n",
    "    education = as.factor(education),\n",
    "    marital_status = as.factor(`marital-status`),  # Handle the hyphen by using backticks\n",
    "    occupation = as.factor(occupation),\n",
    "    relationship = as.factor(relationship),\n",
    "    race = as.factor(race),\n",
    "    sex = as.factor(sex),\n",
    "    native_country = as.factor(`native-country`),  # Handle the hyphen by using backticks\n",
    "    income = as.factor(income)\n",
    "  )"
   ]
  },
  {
   "cell_type": "code",
   "execution_count": 13,
   "id": "7d7524ad-316e-4bcc-9ed4-275804fb441e",
   "metadata": {},
   "outputs": [
    {
     "name": "stdout",
     "output_type": "stream",
     "text": [
      "tibble [48,842 × 17] (S3: tbl_df/tbl/data.frame)\n",
      " $ age           : int [1:48842] 39 50 38 53 28 37 49 52 31 42 ...\n",
      " $ workclass     : Factor w/ 9 levels \"?\",\"Federal-gov\",..: 8 7 5 5 5 5 5 7 5 5 ...\n",
      " $ fnlwgt        : int [1:48842] 77516 83311 215646 234721 338409 284582 160187 209642 45781 159449 ...\n",
      " $ education     : Factor w/ 16 levels \"10th\",\"11th\",..: 10 10 12 2 10 13 7 12 13 10 ...\n",
      " $ education-num : num [1:48842] 13 13 9 7 13 14 5 9 14 13 ...\n",
      " $ marital-status: chr [1:48842] \"Never-married\" \"Married-civ-spouse\" \"Divorced\" \"Married-civ-spouse\" ...\n",
      " $ occupation    : Factor w/ 15 levels \"?\",\"Adm-clerical\",..: 2 5 7 7 11 5 9 5 11 5 ...\n",
      " $ relationship  : Factor w/ 6 levels \"Husband\",\"Not-in-family\",..: 2 1 2 1 6 6 2 1 2 1 ...\n",
      " $ race          : Factor w/ 5 levels \"Amer-Indian-Eskimo\",..: 5 5 5 3 3 5 3 5 5 5 ...\n",
      " $ sex           : Factor w/ 2 levels \"Female\",\"Male\": 2 2 2 2 1 1 1 2 1 2 ...\n",
      " $ capital-gain  : num [1:48842] 2174 0 0 0 0 ...\n",
      " $ capital-loss  : num [1:48842] 0 0 0 0 0 0 0 0 0 0 ...\n",
      " $ hours-per-week: num [1:48842] 40 13 40 40 40 40 16 45 50 40 ...\n",
      " $ native-country: chr [1:48842] \"United-States\" \"United-States\" \"United-States\" \"United-States\" ...\n",
      " $ income        : Factor w/ 4 levels \"<=50K\",\"<=50K.\",..: 1 1 1 1 1 1 1 3 3 3 ...\n",
      " $ marital_status: Factor w/ 7 levels \"Divorced\",\"Married-AF-spouse\",..: 5 3 1 3 3 3 4 3 5 3 ...\n",
      " $ native_country: Factor w/ 42 levels \"?\",\"Cambodia\",..: 40 40 40 40 6 40 24 40 40 40 ...\n"
     ]
    }
   ],
   "source": [
    "str(df)"
   ]
  },
  {
   "cell_type": "markdown",
   "id": "bca1606e-a869-412f-8d5f-68b7fa738da3",
   "metadata": {},
   "source": [
    "# Step 2: Data Cleaning"
   ]
  },
  {
   "cell_type": "markdown",
   "id": "c36e2bf9-4248-4497-93fe-e8fcc6f6418b",
   "metadata": {},
   "source": [
    "## Checking for Null Values"
   ]
  },
  {
   "cell_type": "code",
   "execution_count": null,
   "id": "e1b12a55-61cf-438a-8a9e-50cdd81accb4",
   "metadata": {},
   "outputs": [],
   "source": []
  },
  {
   "cell_type": "markdown",
   "id": "441949b0-d766-4093-8dc0-f1533ad7c3c3",
   "metadata": {},
   "source": [
    "## Checking for unique values"
   ]
  },
  {
   "cell_type": "code",
   "execution_count": null,
   "id": "b36af9ed-435f-437a-997f-f4a8c41ef1ed",
   "metadata": {},
   "outputs": [],
   "source": []
  },
  {
   "cell_type": "markdown",
   "id": "f5ee53f4-8bd5-4868-9b98-e21511107ce5",
   "metadata": {},
   "source": [
    "## All Features"
   ]
  },
  {
   "cell_type": "code",
   "execution_count": null,
   "id": "165a3832-110c-4fa8-8930-8b0482bef753",
   "metadata": {},
   "outputs": [],
   "source": []
  },
  {
   "cell_type": "markdown",
   "id": "d81f7280-482e-4fb9-87a5-407ea1a023ad",
   "metadata": {},
   "source": [
    "## Checking for low variance:"
   ]
  },
  {
   "cell_type": "code",
   "execution_count": null,
   "id": "e8e90a2a-c9fe-45af-958c-6eeeffd90160",
   "metadata": {},
   "outputs": [],
   "source": []
  },
  {
   "cell_type": "markdown",
   "id": "1cae9a16-33ab-4c83-90fb-b24f79a8f52b",
   "metadata": {},
   "source": [
    "## Checking & handling for duplicates"
   ]
  },
  {
   "cell_type": "code",
   "execution_count": null,
   "id": "4f9dc820-a52b-4181-bbfd-b928492e0dcd",
   "metadata": {},
   "outputs": [],
   "source": []
  },
  {
   "cell_type": "markdown",
   "id": "7e3bc48c-73f0-4802-ba20-ed36831d53c9",
   "metadata": {},
   "source": [
    "## Handling Missing Values"
   ]
  },
  {
   "cell_type": "code",
   "execution_count": null,
   "id": "ac463d5d-9002-4ca2-8475-58e481b85e02",
   "metadata": {},
   "outputs": [],
   "source": []
  },
  {
   "cell_type": "markdown",
   "id": "e914c618-24c4-43d6-9df5-1297c1fb353d",
   "metadata": {},
   "source": [
    "## Unique counts of categories in columns"
   ]
  },
  {
   "cell_type": "code",
   "execution_count": null,
   "id": "d8ec3442-363d-4f46-b16e-7f868d7f0126",
   "metadata": {},
   "outputs": [],
   "source": []
  },
  {
   "cell_type": "markdown",
   "id": "242476d4-64dd-4602-ae30-60b52d81561b",
   "metadata": {},
   "source": [
    "## Copy of Original Data"
   ]
  },
  {
   "cell_type": "code",
   "execution_count": null,
   "id": "f93224fe-343a-4596-9142-b8eaf32f3c55",
   "metadata": {},
   "outputs": [],
   "source": []
  },
  {
   "cell_type": "markdown",
   "id": "9642a3e6-b1e6-4b13-b6d6-1d182597f1c3",
   "metadata": {},
   "source": [
    "# Step 3: Feature Engineering"
   ]
  },
  {
   "cell_type": "markdown",
   "id": "bfe99016-0595-4744-ac7b-b1decafdc5dc",
   "metadata": {},
   "source": [
    "# Step 4: Train & Test Split"
   ]
  },
  {
   "cell_type": "code",
   "execution_count": null,
   "id": "c1bd08d3-f843-4762-a81b-0e3528fa94be",
   "metadata": {},
   "outputs": [],
   "source": []
  },
  {
   "cell_type": "markdown",
   "id": "14b042ee-a020-4f55-8636-a59ff17733b4",
   "metadata": {},
   "source": [
    "## Print the number of records in the training and testing data"
   ]
  },
  {
   "cell_type": "code",
   "execution_count": null,
   "id": "77254491-e85d-4bfb-8693-3bb14f737d63",
   "metadata": {},
   "outputs": [],
   "source": []
  },
  {
   "cell_type": "markdown",
   "id": "80e9c705-ee39-4746-9d45-bf7b78198bda",
   "metadata": {},
   "source": [
    "## Save training data to CSV"
   ]
  },
  {
   "cell_type": "code",
   "execution_count": null,
   "id": "921df432-fbc4-46dc-9b1e-86110152fca4",
   "metadata": {},
   "outputs": [],
   "source": []
  },
  {
   "cell_type": "markdown",
   "id": "e272f94e-c37f-4c4e-b313-4a4ea8712ffa",
   "metadata": {},
   "source": [
    "## Save testing data to CSV"
   ]
  },
  {
   "cell_type": "code",
   "execution_count": null,
   "id": "0d493fff-eb0a-496f-96aa-4c27890ad83c",
   "metadata": {},
   "outputs": [],
   "source": []
  },
  {
   "cell_type": "markdown",
   "id": "07d7f5a0-3f1c-4b23-b675-eb08443bda21",
   "metadata": {},
   "source": [
    "# Step 5: Feature Scaling"
   ]
  },
  {
   "cell_type": "code",
   "execution_count": null,
   "id": "4c631613-c1ac-451e-be83-076a8d2668b0",
   "metadata": {},
   "outputs": [],
   "source": []
  },
  {
   "cell_type": "markdown",
   "id": "40a504bb-7baf-4f48-96c4-0ef92e057b2f",
   "metadata": {},
   "source": [
    "# Step 6: Logistic Regression"
   ]
  },
  {
   "cell_type": "code",
   "execution_count": null,
   "id": "0cd964ed-c62e-4a17-963d-f4924ac7d03a",
   "metadata": {},
   "outputs": [],
   "source": []
  },
  {
   "cell_type": "markdown",
   "id": "06751f20-871b-4353-8513-f1ad337cc90b",
   "metadata": {},
   "source": [
    "# Step 7: Random Forest"
   ]
  },
  {
   "cell_type": "code",
   "execution_count": null,
   "id": "f75dedcf-90ba-4db0-9b8f-0778727b776e",
   "metadata": {},
   "outputs": [],
   "source": []
  }
 ],
 "metadata": {
  "kernelspec": {
   "display_name": "R",
   "language": "R",
   "name": "ir"
  },
  "language_info": {
   "codemirror_mode": "r",
   "file_extension": ".r",
   "mimetype": "text/x-r-source",
   "name": "R",
   "pygments_lexer": "r",
   "version": "4.3.2"
  }
 },
 "nbformat": 4,
 "nbformat_minor": 5
}
