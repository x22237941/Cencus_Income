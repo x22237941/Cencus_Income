{
 "cells": [
  {
   "cell_type": "markdown",
   "id": "98d609a3-89cb-4e99-853c-2e2d9293350d",
   "metadata": {},
   "source": [
    "# Adult Cencus Income Classification"
   ]
  },
  {
   "cell_type": "markdown",
   "id": "2423c679-6371-4924-9172-7a88b311f6be",
   "metadata": {},
   "source": [
    "The Goal is to predict whether a person has an income of more than 50K a year or not."
   ]
  },
  {
   "cell_type": "markdown",
   "id": "d1369eb9-c901-48ee-a255-d68cbdc6c5e4",
   "metadata": {},
   "source": [
    "This is basically a binary classification problem where a person is classified into the more than 50K group or less than or equal to 50K group"
   ]
  },
  {
   "cell_type": "markdown",
   "id": "183a5a40-d55a-46a8-b9e2-b28e46dd9d59",
   "metadata": {},
   "source": [
    "The dataset contains about 48842 rows and 15 features which after all the implementation of all standard techniques like Data Cleaning, Feature Engineering was feeded to our Classifier for training and testing."
   ]
  },
  {
   "cell_type": "markdown",
   "id": "a0c18ce4-12a1-470b-bb38-405fd7099e30",
   "metadata": {},
   "source": [
    "# Importing required libraries"
   ]
  },
  {
   "cell_type": "code",
   "execution_count": 1,
   "id": "aa3788f0-2a57-4878-ac08-b448e22e7a39",
   "metadata": {},
   "outputs": [],
   "source": [
    "import os\n",
    "import csv\n",
    "import json\n",
    "import numpy as np\n",
    "import pandas as pd\n",
    "from matplotlib import pyplot as plt\n",
    "import seaborn as sns\n",
    "\n",
    "# Ignoring warnings\n",
    "import warnings \n",
    "warnings.filterwarnings(action='ignore')"
   ]
  },
  {
   "cell_type": "markdown",
   "id": "f2fa3f28-8949-48c4-b483-3e5db1360904",
   "metadata": {},
   "source": [
    "# Extracting Data From UCI"
   ]
  },
  {
   "cell_type": "code",
   "execution_count": 2,
   "id": "e6da96cd-fa61-44f8-a7e9-0dedfc41087b",
   "metadata": {},
   "outputs": [
    {
     "name": "stdout",
     "output_type": "stream",
     "text": [
      "Requirement already satisfied: ucimlrepo in c:\\users\\sana jalgaonkar\\appdata\\local\\programs\\python\\python312\\lib\\site-packages (0.0.6)\n",
      "Note: you may need to restart the kernel to use updated packages.\n"
     ]
    }
   ],
   "source": [
    "pip install ucimlrepo"
   ]
  },
  {
   "cell_type": "code",
   "execution_count": 3,
   "id": "0d8ad177-71a2-42e0-9fa4-eee40b9e767d",
   "metadata": {},
   "outputs": [],
   "source": [
    "from ucimlrepo import fetch_ucirepo "
   ]
  },
  {
   "cell_type": "code",
   "execution_count": 4,
   "id": "e6d471b6-b034-4de8-ac86-1bfe24d2a897",
   "metadata": {},
   "outputs": [],
   "source": [
    "# Fetch dataset \n",
    "uci_data = fetch_ucirepo(id=20) "
   ]
  },
  {
   "cell_type": "code",
   "execution_count": 5,
   "id": "ce03b7df-2e47-4147-9e57-7b844dfd1773",
   "metadata": {},
   "outputs": [
    {
     "data": {
      "text/plain": [
       "{'data': {'ids': None,\n",
       "  'features':        age         workclass  fnlwgt  education  education-num  \\\n",
       "  0       39         State-gov   77516  Bachelors             13   \n",
       "  1       50  Self-emp-not-inc   83311  Bachelors             13   \n",
       "  2       38           Private  215646    HS-grad              9   \n",
       "  3       53           Private  234721       11th              7   \n",
       "  4       28           Private  338409  Bachelors             13   \n",
       "  ...    ...               ...     ...        ...            ...   \n",
       "  48837   39           Private  215419  Bachelors             13   \n",
       "  48838   64               NaN  321403    HS-grad              9   \n",
       "  48839   38           Private  374983  Bachelors             13   \n",
       "  48840   44           Private   83891  Bachelors             13   \n",
       "  48841   35      Self-emp-inc  182148  Bachelors             13   \n",
       "  \n",
       "             marital-status         occupation    relationship  \\\n",
       "  0           Never-married       Adm-clerical   Not-in-family   \n",
       "  1      Married-civ-spouse    Exec-managerial         Husband   \n",
       "  2                Divorced  Handlers-cleaners   Not-in-family   \n",
       "  3      Married-civ-spouse  Handlers-cleaners         Husband   \n",
       "  4      Married-civ-spouse     Prof-specialty            Wife   \n",
       "  ...                   ...                ...             ...   \n",
       "  48837            Divorced     Prof-specialty   Not-in-family   \n",
       "  48838             Widowed                NaN  Other-relative   \n",
       "  48839  Married-civ-spouse     Prof-specialty         Husband   \n",
       "  48840            Divorced       Adm-clerical       Own-child   \n",
       "  48841  Married-civ-spouse    Exec-managerial         Husband   \n",
       "  \n",
       "                       race     sex  capital-gain  capital-loss  hours-per-week  \\\n",
       "  0                   White    Male          2174             0              40   \n",
       "  1                   White    Male             0             0              13   \n",
       "  2                   White    Male             0             0              40   \n",
       "  3                   Black    Male             0             0              40   \n",
       "  4                   Black  Female             0             0              40   \n",
       "  ...                   ...     ...           ...           ...             ...   \n",
       "  48837               White  Female             0             0              36   \n",
       "  48838               Black    Male             0             0              40   \n",
       "  48839               White    Male             0             0              50   \n",
       "  48840  Asian-Pac-Islander    Male          5455             0              40   \n",
       "  48841               White    Male             0             0              60   \n",
       "  \n",
       "        native-country  \n",
       "  0      United-States  \n",
       "  1      United-States  \n",
       "  2      United-States  \n",
       "  3      United-States  \n",
       "  4               Cuba  \n",
       "  ...              ...  \n",
       "  48837  United-States  \n",
       "  48838  United-States  \n",
       "  48839  United-States  \n",
       "  48840  United-States  \n",
       "  48841  United-States  \n",
       "  \n",
       "  [48842 rows x 14 columns],\n",
       "  'targets':        income\n",
       "  0       <=50K\n",
       "  1       <=50K\n",
       "  2       <=50K\n",
       "  3       <=50K\n",
       "  4       <=50K\n",
       "  ...       ...\n",
       "  48837  <=50K.\n",
       "  48838  <=50K.\n",
       "  48839  <=50K.\n",
       "  48840  <=50K.\n",
       "  48841   >50K.\n",
       "  \n",
       "  [48842 rows x 1 columns],\n",
       "  'original':        age         workclass  fnlwgt  education  education-num  \\\n",
       "  0       39         State-gov   77516  Bachelors             13   \n",
       "  1       50  Self-emp-not-inc   83311  Bachelors             13   \n",
       "  2       38           Private  215646    HS-grad              9   \n",
       "  3       53           Private  234721       11th              7   \n",
       "  4       28           Private  338409  Bachelors             13   \n",
       "  ...    ...               ...     ...        ...            ...   \n",
       "  48837   39           Private  215419  Bachelors             13   \n",
       "  48838   64               NaN  321403    HS-grad              9   \n",
       "  48839   38           Private  374983  Bachelors             13   \n",
       "  48840   44           Private   83891  Bachelors             13   \n",
       "  48841   35      Self-emp-inc  182148  Bachelors             13   \n",
       "  \n",
       "             marital-status         occupation    relationship  \\\n",
       "  0           Never-married       Adm-clerical   Not-in-family   \n",
       "  1      Married-civ-spouse    Exec-managerial         Husband   \n",
       "  2                Divorced  Handlers-cleaners   Not-in-family   \n",
       "  3      Married-civ-spouse  Handlers-cleaners         Husband   \n",
       "  4      Married-civ-spouse     Prof-specialty            Wife   \n",
       "  ...                   ...                ...             ...   \n",
       "  48837            Divorced     Prof-specialty   Not-in-family   \n",
       "  48838             Widowed                NaN  Other-relative   \n",
       "  48839  Married-civ-spouse     Prof-specialty         Husband   \n",
       "  48840            Divorced       Adm-clerical       Own-child   \n",
       "  48841  Married-civ-spouse    Exec-managerial         Husband   \n",
       "  \n",
       "                       race     sex  capital-gain  capital-loss  hours-per-week  \\\n",
       "  0                   White    Male          2174             0              40   \n",
       "  1                   White    Male             0             0              13   \n",
       "  2                   White    Male             0             0              40   \n",
       "  3                   Black    Male             0             0              40   \n",
       "  4                   Black  Female             0             0              40   \n",
       "  ...                   ...     ...           ...           ...             ...   \n",
       "  48837               White  Female             0             0              36   \n",
       "  48838               Black    Male             0             0              40   \n",
       "  48839               White    Male             0             0              50   \n",
       "  48840  Asian-Pac-Islander    Male          5455             0              40   \n",
       "  48841               White    Male             0             0              60   \n",
       "  \n",
       "        native-country  income  \n",
       "  0      United-States   <=50K  \n",
       "  1      United-States   <=50K  \n",
       "  2      United-States   <=50K  \n",
       "  3      United-States   <=50K  \n",
       "  4               Cuba   <=50K  \n",
       "  ...              ...     ...  \n",
       "  48837  United-States  <=50K.  \n",
       "  48838  United-States  <=50K.  \n",
       "  48839  United-States  <=50K.  \n",
       "  48840  United-States  <=50K.  \n",
       "  48841  United-States   >50K.  \n",
       "  \n",
       "  [48842 rows x 15 columns],\n",
       "  'headers': Index(['age', 'workclass', 'fnlwgt', 'education', 'education-num',\n",
       "         'marital-status', 'occupation', 'relationship', 'race', 'sex',\n",
       "         'capital-gain', 'capital-loss', 'hours-per-week', 'native-country',\n",
       "         'income'],\n",
       "        dtype='object')},\n",
       " 'metadata': {'uci_id': 20,\n",
       "  'name': 'Census Income',\n",
       "  'repository_url': 'https://archive.ics.uci.edu/dataset/20/census+income',\n",
       "  'data_url': 'https://archive.ics.uci.edu/static/public/20/data.csv',\n",
       "  'abstract': 'Predict whether income exceeds $50K/yr based on census data.  Also known as Adult dataset.',\n",
       "  'area': 'Social Science',\n",
       "  'tasks': ['Classification'],\n",
       "  'characteristics': ['Multivariate'],\n",
       "  'num_instances': 48842,\n",
       "  'num_features': 14,\n",
       "  'feature_types': ['Categorical', 'Integer'],\n",
       "  'demographics': ['Age', 'Income', 'Education Level', 'Other', 'Race', 'Sex'],\n",
       "  'target_col': ['income'],\n",
       "  'index_col': None,\n",
       "  'has_missing_values': 'yes',\n",
       "  'missing_values_symbol': 'NaN',\n",
       "  'year_of_dataset_creation': 1996,\n",
       "  'last_updated': 'Thu Aug 10 2023',\n",
       "  'dataset_doi': '10.24432/C5GP7S',\n",
       "  'creators': ['Ron Kohavi'],\n",
       "  'intro_paper': None,\n",
       "  'additional_info': {'summary': 'Extraction was done by Barry Becker from the 1994 Census database.  A set of reasonably clean records was extracted using the following conditions: ((AAGE>16) && (AGI>100) && (AFNLWGT>1)&& (HRSWK>0))\\r\\n\\r\\nPrediction task is to determine whether a person makes over 50K a year.',\n",
       "   'purpose': None,\n",
       "   'funded_by': None,\n",
       "   'instances_represent': None,\n",
       "   'recommended_data_splits': None,\n",
       "   'sensitive_data': None,\n",
       "   'preprocessing_description': None,\n",
       "   'variable_info': 'Listing of attributes:\\r\\n\\r\\n>50K, <=50K.\\r\\n\\r\\nage: continuous.\\r\\nworkclass: Private, Self-emp-not-inc, Self-emp-inc, Federal-gov, Local-gov, State-gov, Without-pay, Never-worked.\\r\\nfnlwgt: continuous.\\r\\neducation: Bachelors, Some-college, 11th, HS-grad, Prof-school, Assoc-acdm, Assoc-voc, 9th, 7th-8th, 12th, Masters, 1st-4th, 10th, Doctorate, 5th-6th, Preschool.\\r\\neducation-num: continuous.\\r\\nmarital-status: Married-civ-spouse, Divorced, Never-married, Separated, Widowed, Married-spouse-absent, Married-AF-spouse.\\r\\noccupation: Tech-support, Craft-repair, Other-service, Sales, Exec-managerial, Prof-specialty, Handlers-cleaners, Machine-op-inspct, Adm-clerical, Farming-fishing, Transport-moving, Priv-house-serv, Protective-serv, Armed-Forces.\\r\\nrelationship: Wife, Own-child, Husband, Not-in-family, Other-relative, Unmarried.\\r\\nrace: White, Asian-Pac-Islander, Amer-Indian-Eskimo, Other, Black.\\r\\nsex: Female, Male.\\r\\ncapital-gain: continuous.\\r\\ncapital-loss: continuous.\\r\\nhours-per-week: continuous.\\r\\nnative-country: United-States, Cambodia, England, Puerto-Rico, Canada, Germany, Outlying-US(Guam-USVI-etc), India, Japan, Greece, South, China, Cuba, Iran, Honduras, Philippines, Italy, Poland, Jamaica, Vietnam, Mexico, Portugal, Ireland, France, Dominican-Republic, Laos, Ecuador, Taiwan, Haiti, Columbia, Hungary, Guatemala, Nicaragua, Scotland, Thailand, Yugoslavia, El-Salvador, Trinadad&Tobago, Peru, Hong, Holand-Netherlands.',\n",
       "   'citation': None}},\n",
       " 'variables':               name     role         type      demographic  \\\n",
       " 0              age  Feature      Integer              Age   \n",
       " 1        workclass  Feature  Categorical           Income   \n",
       " 2           fnlwgt  Feature      Integer             None   \n",
       " 3        education  Feature  Categorical  Education Level   \n",
       " 4    education-num  Feature      Integer  Education Level   \n",
       " 5   marital-status  Feature  Categorical            Other   \n",
       " 6       occupation  Feature  Categorical            Other   \n",
       " 7     relationship  Feature  Categorical            Other   \n",
       " 8             race  Feature  Categorical             Race   \n",
       " 9              sex  Feature       Binary              Sex   \n",
       " 10    capital-gain  Feature      Integer             None   \n",
       " 11    capital-loss  Feature      Integer             None   \n",
       " 12  hours-per-week  Feature      Integer             None   \n",
       " 13  native-country  Feature  Categorical            Other   \n",
       " 14          income   Target       Binary           Income   \n",
       " \n",
       "                                           description units missing_values  \n",
       " 0                                                 N/A  None             no  \n",
       " 1   Private, Self-emp-not-inc, Self-emp-inc, Feder...  None            yes  \n",
       " 2                                                None  None             no  \n",
       " 3    Bachelors, Some-college, 11th, HS-grad, Prof-...  None             no  \n",
       " 4                                                None  None             no  \n",
       " 5   Married-civ-spouse, Divorced, Never-married, S...  None             no  \n",
       " 6   Tech-support, Craft-repair, Other-service, Sal...  None            yes  \n",
       " 7   Wife, Own-child, Husband, Not-in-family, Other...  None             no  \n",
       " 8   White, Asian-Pac-Islander, Amer-Indian-Eskimo,...  None             no  \n",
       " 9                                       Female, Male.  None             no  \n",
       " 10                                               None  None             no  \n",
       " 11                                               None  None             no  \n",
       " 12                                               None  None             no  \n",
       " 13  United-States, Cambodia, England, Puerto-Rico,...  None            yes  \n",
       " 14                                       >50K, <=50K.  None             no  }"
      ]
     },
     "execution_count": 5,
     "metadata": {},
     "output_type": "execute_result"
    }
   ],
   "source": [
    "uci_data"
   ]
  },
  {
   "cell_type": "markdown",
   "id": "9cee2c9b-d570-4c17-be82-4c8a53a0b522",
   "metadata": {},
   "source": [
    "# Check if the file already exists"
   ]
  },
  {
   "cell_type": "code",
   "execution_count": 6,
   "id": "6c1fcc86-97d6-4173-a468-2e52518c5fe0",
   "metadata": {},
   "outputs": [],
   "source": [
    "if os.path.exists('census_income.csv'):\n",
    "    data = uci_data['data']['original']\n",
    "    data.to_csv('census_income.csv', index=False, mode='w')\n",
    "else:\n",
    "    data = uci_data['data']['original']\n",
    "    data.to_csv('census_income.csv', index=False)"
   ]
  },
  {
   "cell_type": "code",
   "execution_count": 7,
   "id": "36cd616b-db6c-49d3-b3e6-e7c9ebefe2ee",
   "metadata": {},
   "outputs": [],
   "source": [
    "df = pd.read_csv('census_income.csv')"
   ]
  },
  {
   "cell_type": "code",
   "execution_count": 8,
   "id": "7d1c5ea7-2e49-48b9-912c-83ac0cab6709",
   "metadata": {},
   "outputs": [
    {
     "data": {
      "text/html": [
       "<div>\n",
       "<style scoped>\n",
       "    .dataframe tbody tr th:only-of-type {\n",
       "        vertical-align: middle;\n",
       "    }\n",
       "\n",
       "    .dataframe tbody tr th {\n",
       "        vertical-align: top;\n",
       "    }\n",
       "\n",
       "    .dataframe thead th {\n",
       "        text-align: right;\n",
       "    }\n",
       "</style>\n",
       "<table border=\"1\" class=\"dataframe\">\n",
       "  <thead>\n",
       "    <tr style=\"text-align: right;\">\n",
       "      <th></th>\n",
       "      <th>age</th>\n",
       "      <th>workclass</th>\n",
       "      <th>fnlwgt</th>\n",
       "      <th>education</th>\n",
       "      <th>education-num</th>\n",
       "      <th>marital-status</th>\n",
       "      <th>occupation</th>\n",
       "      <th>relationship</th>\n",
       "      <th>race</th>\n",
       "      <th>sex</th>\n",
       "      <th>capital-gain</th>\n",
       "      <th>capital-loss</th>\n",
       "      <th>hours-per-week</th>\n",
       "      <th>native-country</th>\n",
       "      <th>income</th>\n",
       "    </tr>\n",
       "  </thead>\n",
       "  <tbody>\n",
       "    <tr>\n",
       "      <th>0</th>\n",
       "      <td>39</td>\n",
       "      <td>State-gov</td>\n",
       "      <td>77516</td>\n",
       "      <td>Bachelors</td>\n",
       "      <td>13</td>\n",
       "      <td>Never-married</td>\n",
       "      <td>Adm-clerical</td>\n",
       "      <td>Not-in-family</td>\n",
       "      <td>White</td>\n",
       "      <td>Male</td>\n",
       "      <td>2174</td>\n",
       "      <td>0</td>\n",
       "      <td>40</td>\n",
       "      <td>United-States</td>\n",
       "      <td>&lt;=50K</td>\n",
       "    </tr>\n",
       "    <tr>\n",
       "      <th>1</th>\n",
       "      <td>50</td>\n",
       "      <td>Self-emp-not-inc</td>\n",
       "      <td>83311</td>\n",
       "      <td>Bachelors</td>\n",
       "      <td>13</td>\n",
       "      <td>Married-civ-spouse</td>\n",
       "      <td>Exec-managerial</td>\n",
       "      <td>Husband</td>\n",
       "      <td>White</td>\n",
       "      <td>Male</td>\n",
       "      <td>0</td>\n",
       "      <td>0</td>\n",
       "      <td>13</td>\n",
       "      <td>United-States</td>\n",
       "      <td>&lt;=50K</td>\n",
       "    </tr>\n",
       "    <tr>\n",
       "      <th>2</th>\n",
       "      <td>38</td>\n",
       "      <td>Private</td>\n",
       "      <td>215646</td>\n",
       "      <td>HS-grad</td>\n",
       "      <td>9</td>\n",
       "      <td>Divorced</td>\n",
       "      <td>Handlers-cleaners</td>\n",
       "      <td>Not-in-family</td>\n",
       "      <td>White</td>\n",
       "      <td>Male</td>\n",
       "      <td>0</td>\n",
       "      <td>0</td>\n",
       "      <td>40</td>\n",
       "      <td>United-States</td>\n",
       "      <td>&lt;=50K</td>\n",
       "    </tr>\n",
       "    <tr>\n",
       "      <th>3</th>\n",
       "      <td>53</td>\n",
       "      <td>Private</td>\n",
       "      <td>234721</td>\n",
       "      <td>11th</td>\n",
       "      <td>7</td>\n",
       "      <td>Married-civ-spouse</td>\n",
       "      <td>Handlers-cleaners</td>\n",
       "      <td>Husband</td>\n",
       "      <td>Black</td>\n",
       "      <td>Male</td>\n",
       "      <td>0</td>\n",
       "      <td>0</td>\n",
       "      <td>40</td>\n",
       "      <td>United-States</td>\n",
       "      <td>&lt;=50K</td>\n",
       "    </tr>\n",
       "    <tr>\n",
       "      <th>4</th>\n",
       "      <td>28</td>\n",
       "      <td>Private</td>\n",
       "      <td>338409</td>\n",
       "      <td>Bachelors</td>\n",
       "      <td>13</td>\n",
       "      <td>Married-civ-spouse</td>\n",
       "      <td>Prof-specialty</td>\n",
       "      <td>Wife</td>\n",
       "      <td>Black</td>\n",
       "      <td>Female</td>\n",
       "      <td>0</td>\n",
       "      <td>0</td>\n",
       "      <td>40</td>\n",
       "      <td>Cuba</td>\n",
       "      <td>&lt;=50K</td>\n",
       "    </tr>\n",
       "  </tbody>\n",
       "</table>\n",
       "</div>"
      ],
      "text/plain": [
       "   age         workclass  fnlwgt  education  education-num  \\\n",
       "0   39         State-gov   77516  Bachelors             13   \n",
       "1   50  Self-emp-not-inc   83311  Bachelors             13   \n",
       "2   38           Private  215646    HS-grad              9   \n",
       "3   53           Private  234721       11th              7   \n",
       "4   28           Private  338409  Bachelors             13   \n",
       "\n",
       "       marital-status         occupation   relationship   race     sex  \\\n",
       "0       Never-married       Adm-clerical  Not-in-family  White    Male   \n",
       "1  Married-civ-spouse    Exec-managerial        Husband  White    Male   \n",
       "2            Divorced  Handlers-cleaners  Not-in-family  White    Male   \n",
       "3  Married-civ-spouse  Handlers-cleaners        Husband  Black    Male   \n",
       "4  Married-civ-spouse     Prof-specialty           Wife  Black  Female   \n",
       "\n",
       "   capital-gain  capital-loss  hours-per-week native-country income  \n",
       "0          2174             0              40  United-States  <=50K  \n",
       "1             0             0              13  United-States  <=50K  \n",
       "2             0             0              40  United-States  <=50K  \n",
       "3             0             0              40  United-States  <=50K  \n",
       "4             0             0              40           Cuba  <=50K  "
      ]
     },
     "execution_count": 8,
     "metadata": {},
     "output_type": "execute_result"
    }
   ],
   "source": [
    "df.head()"
   ]
  },
  {
   "cell_type": "markdown",
   "id": "7f613ff6-5e9f-4a2a-89f3-5fcf9c362f1e",
   "metadata": {},
   "source": [
    "# Step 1: Preliminary Analysis"
   ]
  },
  {
   "cell_type": "markdown",
   "id": "e6754b17-c5d8-41c7-8623-e7723b38c928",
   "metadata": {},
   "source": [
    "## Number of independent and dependent variables:"
   ]
  },
  {
   "cell_type": "code",
   "execution_count": 9,
   "id": "cbb206b3-1cce-4b2a-a4eb-e25e705943ac",
   "metadata": {},
   "outputs": [
    {
     "name": "stdout",
     "output_type": "stream",
     "text": [
      "Number of independent variables: 14\n",
      "Number of dependent variables: 1\n"
     ]
    }
   ],
   "source": [
    "independent_vars = df.columns[:-1]\n",
    "dependent_var = df.columns[-1]\n",
    "print(\"Number of independent variables:\", len(independent_vars))\n",
    "print(\"Number of dependent variables:\", 1)"
   ]
  },
  {
   "cell_type": "markdown",
   "id": "5d9c32fb-4751-4d53-969e-4232c9a1e2d8",
   "metadata": {},
   "source": [
    "## Number of records:"
   ]
  },
  {
   "cell_type": "code",
   "execution_count": 10,
   "id": "36a6c8c3-887f-47dc-bec2-f8ad1802b4d0",
   "metadata": {},
   "outputs": [
    {
     "name": "stdout",
     "output_type": "stream",
     "text": [
      "Number of records: 48842\n"
     ]
    }
   ],
   "source": [
    "print(\"Number of records:\", len(df))"
   ]
  },
  {
   "cell_type": "code",
   "execution_count": 11,
   "id": "fb859c9d-8aaf-4fbf-835b-65cd1daa690f",
   "metadata": {},
   "outputs": [
    {
     "data": {
      "text/plain": [
       "(48842, 15)"
      ]
     },
     "execution_count": 11,
     "metadata": {},
     "output_type": "execute_result"
    }
   ],
   "source": [
    "df.shape"
   ]
  },
  {
   "cell_type": "markdown",
   "id": "3adc38f1-7af6-48ad-8e12-9a9151152817",
   "metadata": {},
   "source": [
    "## Data types of variables:"
   ]
  },
  {
   "cell_type": "code",
   "execution_count": 12,
   "id": "5baa2ca1-0bf7-41e3-9d93-5a335d28d552",
   "metadata": {},
   "outputs": [
    {
     "name": "stdout",
     "output_type": "stream",
     "text": [
      "Data types of variables:\n",
      "age                int64\n",
      "workclass         object\n",
      "fnlwgt             int64\n",
      "education         object\n",
      "education-num      int64\n",
      "marital-status    object\n",
      "occupation        object\n",
      "relationship      object\n",
      "race              object\n",
      "sex               object\n",
      "capital-gain       int64\n",
      "capital-loss       int64\n",
      "hours-per-week     int64\n",
      "native-country    object\n",
      "income            object\n",
      "dtype: object\n"
     ]
    }
   ],
   "source": [
    "print(\"Data types of variables:\")\n",
    "print(df.dtypes)"
   ]
  },
  {
   "cell_type": "markdown",
   "id": "38b072b8-e022-44a7-9f38-821384198311",
   "metadata": {},
   "source": [
    "## Summary Statistics"
   ]
  },
  {
   "cell_type": "code",
   "execution_count": 13,
   "id": "89f03c99-2f2e-4d5d-a1de-42af22959510",
   "metadata": {},
   "outputs": [
    {
     "data": {
      "text/html": [
       "<div>\n",
       "<style scoped>\n",
       "    .dataframe tbody tr th:only-of-type {\n",
       "        vertical-align: middle;\n",
       "    }\n",
       "\n",
       "    .dataframe tbody tr th {\n",
       "        vertical-align: top;\n",
       "    }\n",
       "\n",
       "    .dataframe thead th {\n",
       "        text-align: right;\n",
       "    }\n",
       "</style>\n",
       "<table border=\"1\" class=\"dataframe\">\n",
       "  <thead>\n",
       "    <tr style=\"text-align: right;\">\n",
       "      <th></th>\n",
       "      <th>age</th>\n",
       "      <th>workclass</th>\n",
       "      <th>fnlwgt</th>\n",
       "      <th>education</th>\n",
       "      <th>education-num</th>\n",
       "      <th>marital-status</th>\n",
       "      <th>occupation</th>\n",
       "      <th>relationship</th>\n",
       "      <th>race</th>\n",
       "      <th>sex</th>\n",
       "      <th>capital-gain</th>\n",
       "      <th>capital-loss</th>\n",
       "      <th>hours-per-week</th>\n",
       "      <th>native-country</th>\n",
       "      <th>income</th>\n",
       "    </tr>\n",
       "  </thead>\n",
       "  <tbody>\n",
       "    <tr>\n",
       "      <th>count</th>\n",
       "      <td>48842.000000</td>\n",
       "      <td>47879</td>\n",
       "      <td>4.884200e+04</td>\n",
       "      <td>48842</td>\n",
       "      <td>48842.000000</td>\n",
       "      <td>48842</td>\n",
       "      <td>47876</td>\n",
       "      <td>48842</td>\n",
       "      <td>48842</td>\n",
       "      <td>48842</td>\n",
       "      <td>48842.000000</td>\n",
       "      <td>48842.000000</td>\n",
       "      <td>48842.000000</td>\n",
       "      <td>48568</td>\n",
       "      <td>48842</td>\n",
       "    </tr>\n",
       "    <tr>\n",
       "      <th>unique</th>\n",
       "      <td>NaN</td>\n",
       "      <td>9</td>\n",
       "      <td>NaN</td>\n",
       "      <td>16</td>\n",
       "      <td>NaN</td>\n",
       "      <td>7</td>\n",
       "      <td>15</td>\n",
       "      <td>6</td>\n",
       "      <td>5</td>\n",
       "      <td>2</td>\n",
       "      <td>NaN</td>\n",
       "      <td>NaN</td>\n",
       "      <td>NaN</td>\n",
       "      <td>42</td>\n",
       "      <td>4</td>\n",
       "    </tr>\n",
       "    <tr>\n",
       "      <th>top</th>\n",
       "      <td>NaN</td>\n",
       "      <td>Private</td>\n",
       "      <td>NaN</td>\n",
       "      <td>HS-grad</td>\n",
       "      <td>NaN</td>\n",
       "      <td>Married-civ-spouse</td>\n",
       "      <td>Prof-specialty</td>\n",
       "      <td>Husband</td>\n",
       "      <td>White</td>\n",
       "      <td>Male</td>\n",
       "      <td>NaN</td>\n",
       "      <td>NaN</td>\n",
       "      <td>NaN</td>\n",
       "      <td>United-States</td>\n",
       "      <td>&lt;=50K</td>\n",
       "    </tr>\n",
       "    <tr>\n",
       "      <th>freq</th>\n",
       "      <td>NaN</td>\n",
       "      <td>33906</td>\n",
       "      <td>NaN</td>\n",
       "      <td>15784</td>\n",
       "      <td>NaN</td>\n",
       "      <td>22379</td>\n",
       "      <td>6172</td>\n",
       "      <td>19716</td>\n",
       "      <td>41762</td>\n",
       "      <td>32650</td>\n",
       "      <td>NaN</td>\n",
       "      <td>NaN</td>\n",
       "      <td>NaN</td>\n",
       "      <td>43832</td>\n",
       "      <td>24720</td>\n",
       "    </tr>\n",
       "    <tr>\n",
       "      <th>mean</th>\n",
       "      <td>38.643585</td>\n",
       "      <td>NaN</td>\n",
       "      <td>1.896641e+05</td>\n",
       "      <td>NaN</td>\n",
       "      <td>10.078089</td>\n",
       "      <td>NaN</td>\n",
       "      <td>NaN</td>\n",
       "      <td>NaN</td>\n",
       "      <td>NaN</td>\n",
       "      <td>NaN</td>\n",
       "      <td>1079.067626</td>\n",
       "      <td>87.502314</td>\n",
       "      <td>40.422382</td>\n",
       "      <td>NaN</td>\n",
       "      <td>NaN</td>\n",
       "    </tr>\n",
       "    <tr>\n",
       "      <th>std</th>\n",
       "      <td>13.710510</td>\n",
       "      <td>NaN</td>\n",
       "      <td>1.056040e+05</td>\n",
       "      <td>NaN</td>\n",
       "      <td>2.570973</td>\n",
       "      <td>NaN</td>\n",
       "      <td>NaN</td>\n",
       "      <td>NaN</td>\n",
       "      <td>NaN</td>\n",
       "      <td>NaN</td>\n",
       "      <td>7452.019058</td>\n",
       "      <td>403.004552</td>\n",
       "      <td>12.391444</td>\n",
       "      <td>NaN</td>\n",
       "      <td>NaN</td>\n",
       "    </tr>\n",
       "    <tr>\n",
       "      <th>min</th>\n",
       "      <td>17.000000</td>\n",
       "      <td>NaN</td>\n",
       "      <td>1.228500e+04</td>\n",
       "      <td>NaN</td>\n",
       "      <td>1.000000</td>\n",
       "      <td>NaN</td>\n",
       "      <td>NaN</td>\n",
       "      <td>NaN</td>\n",
       "      <td>NaN</td>\n",
       "      <td>NaN</td>\n",
       "      <td>0.000000</td>\n",
       "      <td>0.000000</td>\n",
       "      <td>1.000000</td>\n",
       "      <td>NaN</td>\n",
       "      <td>NaN</td>\n",
       "    </tr>\n",
       "    <tr>\n",
       "      <th>25%</th>\n",
       "      <td>28.000000</td>\n",
       "      <td>NaN</td>\n",
       "      <td>1.175505e+05</td>\n",
       "      <td>NaN</td>\n",
       "      <td>9.000000</td>\n",
       "      <td>NaN</td>\n",
       "      <td>NaN</td>\n",
       "      <td>NaN</td>\n",
       "      <td>NaN</td>\n",
       "      <td>NaN</td>\n",
       "      <td>0.000000</td>\n",
       "      <td>0.000000</td>\n",
       "      <td>40.000000</td>\n",
       "      <td>NaN</td>\n",
       "      <td>NaN</td>\n",
       "    </tr>\n",
       "    <tr>\n",
       "      <th>50%</th>\n",
       "      <td>37.000000</td>\n",
       "      <td>NaN</td>\n",
       "      <td>1.781445e+05</td>\n",
       "      <td>NaN</td>\n",
       "      <td>10.000000</td>\n",
       "      <td>NaN</td>\n",
       "      <td>NaN</td>\n",
       "      <td>NaN</td>\n",
       "      <td>NaN</td>\n",
       "      <td>NaN</td>\n",
       "      <td>0.000000</td>\n",
       "      <td>0.000000</td>\n",
       "      <td>40.000000</td>\n",
       "      <td>NaN</td>\n",
       "      <td>NaN</td>\n",
       "    </tr>\n",
       "    <tr>\n",
       "      <th>75%</th>\n",
       "      <td>48.000000</td>\n",
       "      <td>NaN</td>\n",
       "      <td>2.376420e+05</td>\n",
       "      <td>NaN</td>\n",
       "      <td>12.000000</td>\n",
       "      <td>NaN</td>\n",
       "      <td>NaN</td>\n",
       "      <td>NaN</td>\n",
       "      <td>NaN</td>\n",
       "      <td>NaN</td>\n",
       "      <td>0.000000</td>\n",
       "      <td>0.000000</td>\n",
       "      <td>45.000000</td>\n",
       "      <td>NaN</td>\n",
       "      <td>NaN</td>\n",
       "    </tr>\n",
       "    <tr>\n",
       "      <th>max</th>\n",
       "      <td>90.000000</td>\n",
       "      <td>NaN</td>\n",
       "      <td>1.490400e+06</td>\n",
       "      <td>NaN</td>\n",
       "      <td>16.000000</td>\n",
       "      <td>NaN</td>\n",
       "      <td>NaN</td>\n",
       "      <td>NaN</td>\n",
       "      <td>NaN</td>\n",
       "      <td>NaN</td>\n",
       "      <td>99999.000000</td>\n",
       "      <td>4356.000000</td>\n",
       "      <td>99.000000</td>\n",
       "      <td>NaN</td>\n",
       "      <td>NaN</td>\n",
       "    </tr>\n",
       "  </tbody>\n",
       "</table>\n",
       "</div>"
      ],
      "text/plain": [
       "                 age workclass        fnlwgt education  education-num  \\\n",
       "count   48842.000000     47879  4.884200e+04     48842   48842.000000   \n",
       "unique           NaN         9           NaN        16            NaN   \n",
       "top              NaN   Private           NaN   HS-grad            NaN   \n",
       "freq             NaN     33906           NaN     15784            NaN   \n",
       "mean       38.643585       NaN  1.896641e+05       NaN      10.078089   \n",
       "std        13.710510       NaN  1.056040e+05       NaN       2.570973   \n",
       "min        17.000000       NaN  1.228500e+04       NaN       1.000000   \n",
       "25%        28.000000       NaN  1.175505e+05       NaN       9.000000   \n",
       "50%        37.000000       NaN  1.781445e+05       NaN      10.000000   \n",
       "75%        48.000000       NaN  2.376420e+05       NaN      12.000000   \n",
       "max        90.000000       NaN  1.490400e+06       NaN      16.000000   \n",
       "\n",
       "            marital-status      occupation relationship   race    sex  \\\n",
       "count                48842           47876        48842  48842  48842   \n",
       "unique                   7              15            6      5      2   \n",
       "top     Married-civ-spouse  Prof-specialty      Husband  White   Male   \n",
       "freq                 22379            6172        19716  41762  32650   \n",
       "mean                   NaN             NaN          NaN    NaN    NaN   \n",
       "std                    NaN             NaN          NaN    NaN    NaN   \n",
       "min                    NaN             NaN          NaN    NaN    NaN   \n",
       "25%                    NaN             NaN          NaN    NaN    NaN   \n",
       "50%                    NaN             NaN          NaN    NaN    NaN   \n",
       "75%                    NaN             NaN          NaN    NaN    NaN   \n",
       "max                    NaN             NaN          NaN    NaN    NaN   \n",
       "\n",
       "        capital-gain  capital-loss  hours-per-week native-country income  \n",
       "count   48842.000000  48842.000000    48842.000000          48568  48842  \n",
       "unique           NaN           NaN             NaN             42      4  \n",
       "top              NaN           NaN             NaN  United-States  <=50K  \n",
       "freq             NaN           NaN             NaN          43832  24720  \n",
       "mean     1079.067626     87.502314       40.422382            NaN    NaN  \n",
       "std      7452.019058    403.004552       12.391444            NaN    NaN  \n",
       "min         0.000000      0.000000        1.000000            NaN    NaN  \n",
       "25%         0.000000      0.000000       40.000000            NaN    NaN  \n",
       "50%         0.000000      0.000000       40.000000            NaN    NaN  \n",
       "75%         0.000000      0.000000       45.000000            NaN    NaN  \n",
       "max     99999.000000   4356.000000       99.000000            NaN    NaN  "
      ]
     },
     "execution_count": 13,
     "metadata": {},
     "output_type": "execute_result"
    }
   ],
   "source": [
    "# Display summary statistics for the whole dataframe\n",
    "df.describe(include='all')"
   ]
  },
  {
   "cell_type": "code",
   "execution_count": 14,
   "id": "c6bf6b10-3c26-4d12-b05f-014467626328",
   "metadata": {},
   "outputs": [
    {
     "data": {
      "text/html": [
       "<div>\n",
       "<style scoped>\n",
       "    .dataframe tbody tr th:only-of-type {\n",
       "        vertical-align: middle;\n",
       "    }\n",
       "\n",
       "    .dataframe tbody tr th {\n",
       "        vertical-align: top;\n",
       "    }\n",
       "\n",
       "    .dataframe thead th {\n",
       "        text-align: right;\n",
       "    }\n",
       "</style>\n",
       "<table border=\"1\" class=\"dataframe\">\n",
       "  <thead>\n",
       "    <tr style=\"text-align: right;\">\n",
       "      <th></th>\n",
       "      <th>age</th>\n",
       "      <th>fnlwgt</th>\n",
       "      <th>education-num</th>\n",
       "      <th>capital-gain</th>\n",
       "      <th>capital-loss</th>\n",
       "      <th>hours-per-week</th>\n",
       "    </tr>\n",
       "  </thead>\n",
       "  <tbody>\n",
       "    <tr>\n",
       "      <th>count</th>\n",
       "      <td>48842.000000</td>\n",
       "      <td>4.884200e+04</td>\n",
       "      <td>48842.000000</td>\n",
       "      <td>48842.000000</td>\n",
       "      <td>48842.000000</td>\n",
       "      <td>48842.000000</td>\n",
       "    </tr>\n",
       "    <tr>\n",
       "      <th>mean</th>\n",
       "      <td>38.643585</td>\n",
       "      <td>1.896641e+05</td>\n",
       "      <td>10.078089</td>\n",
       "      <td>1079.067626</td>\n",
       "      <td>87.502314</td>\n",
       "      <td>40.422382</td>\n",
       "    </tr>\n",
       "    <tr>\n",
       "      <th>std</th>\n",
       "      <td>13.710510</td>\n",
       "      <td>1.056040e+05</td>\n",
       "      <td>2.570973</td>\n",
       "      <td>7452.019058</td>\n",
       "      <td>403.004552</td>\n",
       "      <td>12.391444</td>\n",
       "    </tr>\n",
       "    <tr>\n",
       "      <th>min</th>\n",
       "      <td>17.000000</td>\n",
       "      <td>1.228500e+04</td>\n",
       "      <td>1.000000</td>\n",
       "      <td>0.000000</td>\n",
       "      <td>0.000000</td>\n",
       "      <td>1.000000</td>\n",
       "    </tr>\n",
       "    <tr>\n",
       "      <th>25%</th>\n",
       "      <td>28.000000</td>\n",
       "      <td>1.175505e+05</td>\n",
       "      <td>9.000000</td>\n",
       "      <td>0.000000</td>\n",
       "      <td>0.000000</td>\n",
       "      <td>40.000000</td>\n",
       "    </tr>\n",
       "    <tr>\n",
       "      <th>50%</th>\n",
       "      <td>37.000000</td>\n",
       "      <td>1.781445e+05</td>\n",
       "      <td>10.000000</td>\n",
       "      <td>0.000000</td>\n",
       "      <td>0.000000</td>\n",
       "      <td>40.000000</td>\n",
       "    </tr>\n",
       "    <tr>\n",
       "      <th>75%</th>\n",
       "      <td>48.000000</td>\n",
       "      <td>2.376420e+05</td>\n",
       "      <td>12.000000</td>\n",
       "      <td>0.000000</td>\n",
       "      <td>0.000000</td>\n",
       "      <td>45.000000</td>\n",
       "    </tr>\n",
       "    <tr>\n",
       "      <th>max</th>\n",
       "      <td>90.000000</td>\n",
       "      <td>1.490400e+06</td>\n",
       "      <td>16.000000</td>\n",
       "      <td>99999.000000</td>\n",
       "      <td>4356.000000</td>\n",
       "      <td>99.000000</td>\n",
       "    </tr>\n",
       "  </tbody>\n",
       "</table>\n",
       "</div>"
      ],
      "text/plain": [
       "                age        fnlwgt  education-num  capital-gain  capital-loss  \\\n",
       "count  48842.000000  4.884200e+04   48842.000000  48842.000000  48842.000000   \n",
       "mean      38.643585  1.896641e+05      10.078089   1079.067626     87.502314   \n",
       "std       13.710510  1.056040e+05       2.570973   7452.019058    403.004552   \n",
       "min       17.000000  1.228500e+04       1.000000      0.000000      0.000000   \n",
       "25%       28.000000  1.175505e+05       9.000000      0.000000      0.000000   \n",
       "50%       37.000000  1.781445e+05      10.000000      0.000000      0.000000   \n",
       "75%       48.000000  2.376420e+05      12.000000      0.000000      0.000000   \n",
       "max       90.000000  1.490400e+06      16.000000  99999.000000   4356.000000   \n",
       "\n",
       "       hours-per-week  \n",
       "count    48842.000000  \n",
       "mean        40.422382  \n",
       "std         12.391444  \n",
       "min          1.000000  \n",
       "25%         40.000000  \n",
       "50%         40.000000  \n",
       "75%         45.000000  \n",
       "max         99.000000  "
      ]
     },
     "execution_count": 14,
     "metadata": {},
     "output_type": "execute_result"
    }
   ],
   "source": [
    "# Display summary statistics for only numeric values in dataframe\n",
    "df.describe()"
   ]
  },
  {
   "cell_type": "markdown",
   "id": "cb195ab7-4dee-4f30-ac5b-208949d8530e",
   "metadata": {},
   "source": [
    "# Step 2: Data Cleaning"
   ]
  },
  {
   "cell_type": "code",
   "execution_count": 15,
   "id": "c13c4fe0-d2fe-4242-a10b-84d329ae5478",
   "metadata": {},
   "outputs": [
    {
     "name": "stdout",
     "output_type": "stream",
     "text": [
      "<class 'pandas.core.frame.DataFrame'>\n",
      "RangeIndex: 48842 entries, 0 to 48841\n",
      "Data columns (total 15 columns):\n",
      " #   Column          Non-Null Count  Dtype \n",
      "---  ------          --------------  ----- \n",
      " 0   age             48842 non-null  int64 \n",
      " 1   workclass       47879 non-null  object\n",
      " 2   fnlwgt          48842 non-null  int64 \n",
      " 3   education       48842 non-null  object\n",
      " 4   education-num   48842 non-null  int64 \n",
      " 5   marital-status  48842 non-null  object\n",
      " 6   occupation      47876 non-null  object\n",
      " 7   relationship    48842 non-null  object\n",
      " 8   race            48842 non-null  object\n",
      " 9   sex             48842 non-null  object\n",
      " 10  capital-gain    48842 non-null  int64 \n",
      " 11  capital-loss    48842 non-null  int64 \n",
      " 12  hours-per-week  48842 non-null  int64 \n",
      " 13  native-country  48568 non-null  object\n",
      " 14  income          48842 non-null  object\n",
      "dtypes: int64(6), object(9)\n",
      "memory usage: 5.6+ MB\n"
     ]
    }
   ],
   "source": [
    "# Check Null and Dtypes\n",
    "df.info()"
   ]
  },
  {
   "cell_type": "code",
   "execution_count": 16,
   "id": "3081ba7e-1007-4fef-bd21-f8edcf0f4fb1",
   "metadata": {},
   "outputs": [
    {
     "data": {
      "text/plain": [
       "age                 0\n",
       "workclass         963\n",
       "fnlwgt              0\n",
       "education           0\n",
       "education-num       0\n",
       "marital-status      0\n",
       "occupation        966\n",
       "relationship        0\n",
       "race                0\n",
       "sex                 0\n",
       "capital-gain        0\n",
       "capital-loss        0\n",
       "hours-per-week      0\n",
       "native-country    274\n",
       "income              0\n",
       "dtype: int64"
      ]
     },
     "execution_count": 16,
     "metadata": {},
     "output_type": "execute_result"
    }
   ],
   "source": [
    "df.isnull().sum()"
   ]
  },
  {
   "cell_type": "code",
   "execution_count": 17,
   "id": "46569903-13ac-42c6-8e19-474b53e9a099",
   "metadata": {},
   "outputs": [
    {
     "data": {
      "text/plain": [
       "age                  74\n",
       "workclass             9\n",
       "fnlwgt            28523\n",
       "education            16\n",
       "education-num        16\n",
       "marital-status        7\n",
       "occupation           15\n",
       "relationship          6\n",
       "race                  5\n",
       "sex                   2\n",
       "capital-gain        123\n",
       "capital-loss         99\n",
       "hours-per-week       96\n",
       "native-country       42\n",
       "income                4\n",
       "dtype: int64"
      ]
     },
     "execution_count": 17,
     "metadata": {},
     "output_type": "execute_result"
    }
   ],
   "source": [
    "df.nunique()"
   ]
  },
  {
   "cell_type": "code",
   "execution_count": 18,
   "id": "fa3bf1ba-dda0-476d-b67f-7a8b9150f833",
   "metadata": {},
   "outputs": [
    {
     "data": {
      "text/plain": [
       "Index(['age', 'workclass', 'fnlwgt', 'education', 'education-num',\n",
       "       'marital-status', 'occupation', 'relationship', 'race', 'sex',\n",
       "       'capital-gain', 'capital-loss', 'hours-per-week', 'native-country',\n",
       "       'income'],\n",
       "      dtype='object')"
      ]
     },
     "execution_count": 18,
     "metadata": {},
     "output_type": "execute_result"
    }
   ],
   "source": [
    "df.columns"
   ]
  },
  {
   "cell_type": "markdown",
   "id": "9a592d33-ff98-47c4-aa14-b25a9159cdff",
   "metadata": {},
   "source": [
    "## Checking for low variance:"
   ]
  },
  {
   "cell_type": "code",
   "execution_count": 19,
   "id": "6fe0b205-254b-4660-9c5e-f1544ccd2a85",
   "metadata": {},
   "outputs": [
    {
     "name": "stdout",
     "output_type": "stream",
     "text": [
      "Columns with low variance (possible candidates for removal): []\n"
     ]
    }
   ],
   "source": [
    "# Checking for columns with a single unique value\n",
    "low_variance_cols = [col for col in df.columns if df[col].nunique() <= 1]\n",
    "print(\"Columns with low variance (possible candidates for removal):\", low_variance_cols)"
   ]
  },
  {
   "cell_type": "markdown",
   "id": "8373eda0-8ff7-4e31-99ad-ab3a833da22e",
   "metadata": {},
   "source": [
    "## Remove Duplicates"
   ]
  },
  {
   "cell_type": "code",
   "execution_count": 20,
   "id": "31dafb69-4179-49eb-9c13-24354168b98c",
   "metadata": {},
   "outputs": [
    {
     "name": "stdout",
     "output_type": "stream",
     "text": [
      "Duplicates found: 29\n",
      "Duplicates have been removed.\n"
     ]
    }
   ],
   "source": [
    "# Checking for duplicates\n",
    "if df.duplicated().any():\n",
    "    print(\"Duplicates found:\", df.duplicated().sum())\n",
    "    df = df.drop_duplicates()\n",
    "    print(\"Duplicates have been removed.\")\n",
    "else:\n",
    "    print(\"No duplicates found.\")"
   ]
  },
  {
   "cell_type": "markdown",
   "id": "c0325a17-617f-4b6c-852d-1ee823874104",
   "metadata": {},
   "source": [
    "## Handling Missing Values"
   ]
  },
  {
   "cell_type": "code",
   "execution_count": 21,
   "id": "56a7b5cc-7141-41d5-b837-eaca730e5c8e",
   "metadata": {},
   "outputs": [
    {
     "name": "stdout",
     "output_type": "stream",
     "text": [
      "Missing values found in the following columns:\n",
      "workclass         963\n",
      "occupation        966\n",
      "native-country    274\n",
      "dtype: int64\n",
      "Missing values have been handled.\n"
     ]
    }
   ],
   "source": [
    "# Checking for missing values in all columns\n",
    "missing_data = df.isnull().sum()\n",
    "missing_data = missing_data[missing_data > 0]\n",
    "\n",
    "if not missing_data.empty:\n",
    "    print(\"Missing values found in the following columns:\")\n",
    "    print(missing_data)\n",
    "    # Handling missing values (example using median imputation for numerical columns)\n",
    "    for column in df.columns:\n",
    "        if df[column].dtype == np.number:\n",
    "            df[column].fillna(df[column].median(), inplace=True)\n",
    "        else:\n",
    "            df[column].fillna(df[column].mode()[0], inplace=True)  # For categorical data, using mode\n",
    "    print(\"Missing values have been handled.\")\n",
    "else:\n",
    "    print(\"No missing values found.\")"
   ]
  },
  {
   "cell_type": "markdown",
   "id": "6779f1b3-fc56-4b38-971b-5091f1ff32e6",
   "metadata": {},
   "source": [
    "## Unique counts of categories in columns"
   ]
  },
  {
   "cell_type": "code",
   "execution_count": 22,
   "id": "1a02cc8c-2e7c-497d-a99b-44ae82d6b248",
   "metadata": {},
   "outputs": [
    {
     "data": {
      "text/plain": [
       "workclass\n",
       "Private             34842\n",
       "Self-emp-not-inc     3861\n",
       "Local-gov            3136\n",
       "State-gov            1981\n",
       "?                    1836\n",
       "Self-emp-inc         1694\n",
       "Federal-gov          1432\n",
       "Without-pay            21\n",
       "Never-worked           10\n",
       "Name: count, dtype: int64"
      ]
     },
     "execution_count": 22,
     "metadata": {},
     "output_type": "execute_result"
    }
   ],
   "source": [
    "df['workclass'].value_counts()"
   ]
  },
  {
   "cell_type": "code",
   "execution_count": 23,
   "id": "6443f695-364e-45eb-9a60-5f210a235171",
   "metadata": {},
   "outputs": [
    {
     "data": {
      "text/plain": [
       "occupation\n",
       "Prof-specialty       7133\n",
       "Craft-repair         6107\n",
       "Exec-managerial      6084\n",
       "Adm-clerical         5608\n",
       "Sales                5504\n",
       "Other-service        4919\n",
       "Machine-op-inspct    3019\n",
       "Transport-moving     2355\n",
       "Handlers-cleaners    2071\n",
       "?                    1843\n",
       "Farming-fishing      1487\n",
       "Tech-support         1445\n",
       "Protective-serv       983\n",
       "Priv-house-serv       240\n",
       "Armed-Forces           15\n",
       "Name: count, dtype: int64"
      ]
     },
     "execution_count": 23,
     "metadata": {},
     "output_type": "execute_result"
    }
   ],
   "source": [
    "df['occupation'].value_counts()"
   ]
  },
  {
   "cell_type": "code",
   "execution_count": 24,
   "id": "5000c52b-d8de-4f9d-ba1b-b8d3315e40de",
   "metadata": {},
   "outputs": [
    {
     "data": {
      "text/plain": [
       "native-country\n",
       "United-States                 44084\n",
       "Mexico                          947\n",
       "?                               582\n",
       "Philippines                     295\n",
       "Germany                         206\n",
       "Puerto-Rico                     184\n",
       "Canada                          182\n",
       "El-Salvador                     155\n",
       "India                           151\n",
       "Cuba                            138\n",
       "England                         127\n",
       "China                           122\n",
       "South                           115\n",
       "Jamaica                         106\n",
       "Italy                           105\n",
       "Dominican-Republic              103\n",
       "Japan                            92\n",
       "Poland                           87\n",
       "Guatemala                        86\n",
       "Vietnam                          86\n",
       "Columbia                         85\n",
       "Haiti                            75\n",
       "Portugal                         67\n",
       "Taiwan                           65\n",
       "Iran                             59\n",
       "Greece                           49\n",
       "Nicaragua                        49\n",
       "Peru                             46\n",
       "Ecuador                          45\n",
       "France                           38\n",
       "Ireland                          37\n",
       "Hong                             30\n",
       "Thailand                         30\n",
       "Cambodia                         28\n",
       "Trinadad&Tobago                  27\n",
       "Laos                             23\n",
       "Yugoslavia                       23\n",
       "Outlying-US(Guam-USVI-etc)       23\n",
       "Scotland                         21\n",
       "Honduras                         20\n",
       "Hungary                          19\n",
       "Holand-Netherlands                1\n",
       "Name: count, dtype: int64"
      ]
     },
     "execution_count": 24,
     "metadata": {},
     "output_type": "execute_result"
    }
   ],
   "source": [
    "df['native-country'].value_counts()"
   ]
  },
  {
   "cell_type": "code",
   "execution_count": 25,
   "id": "9f1223a2-4d1b-44f6-9194-9c64d4cfe36a",
   "metadata": {},
   "outputs": [
    {
     "data": {
      "text/plain": [
       "marital-status\n",
       "Married-civ-spouse       22372\n",
       "Never-married            16098\n",
       "Divorced                  6630\n",
       "Separated                 1530\n",
       "Widowed                   1518\n",
       "Married-spouse-absent      628\n",
       "Married-AF-spouse           37\n",
       "Name: count, dtype: int64"
      ]
     },
     "execution_count": 25,
     "metadata": {},
     "output_type": "execute_result"
    }
   ],
   "source": [
    "df['marital-status'].value_counts()"
   ]
  },
  {
   "cell_type": "code",
   "execution_count": 26,
   "id": "ec69f4d7-0c86-4919-aa84-921ba2f21723",
   "metadata": {},
   "outputs": [
    {
     "data": {
      "text/plain": [
       "sex\n",
       "Male      32631\n",
       "Female    16182\n",
       "Name: count, dtype: int64"
      ]
     },
     "execution_count": 26,
     "metadata": {},
     "output_type": "execute_result"
    }
   ],
   "source": [
    "df['sex'].value_counts()"
   ]
  },
  {
   "cell_type": "code",
   "execution_count": 27,
   "id": "9e7e6344-8c51-4963-9eb2-30da3d24b8e1",
   "metadata": {},
   "outputs": [
    {
     "data": {
      "text/plain": [
       "race\n",
       "White                 41736\n",
       "Black                  4683\n",
       "Asian-Pac-Islander     1518\n",
       "Amer-Indian-Eskimo      470\n",
       "Other                   406\n",
       "Name: count, dtype: int64"
      ]
     },
     "execution_count": 27,
     "metadata": {},
     "output_type": "execute_result"
    }
   ],
   "source": [
    "df['race'].value_counts()"
   ]
  },
  {
   "cell_type": "code",
   "execution_count": 28,
   "id": "e39bce80-b4bd-4b41-a1d3-42004fe87d78",
   "metadata": {},
   "outputs": [
    {
     "data": {
      "text/plain": [
       "education\n",
       "HS-grad         15777\n",
       "Some-college    10869\n",
       "Bachelors        8020\n",
       "Masters          2656\n",
       "Assoc-voc        2060\n",
       "11th             1812\n",
       "Assoc-acdm       1601\n",
       "10th             1389\n",
       "7th-8th           954\n",
       "Prof-school       834\n",
       "9th               756\n",
       "12th              656\n",
       "Doctorate         594\n",
       "5th-6th           508\n",
       "1st-4th           245\n",
       "Preschool          82\n",
       "Name: count, dtype: int64"
      ]
     },
     "execution_count": 28,
     "metadata": {},
     "output_type": "execute_result"
    }
   ],
   "source": [
    "df['education'].value_counts()"
   ]
  },
  {
   "cell_type": "code",
   "execution_count": 29,
   "id": "d9a2c28a-24cc-4e5e-90b9-a0fa4ad50beb",
   "metadata": {},
   "outputs": [
    {
     "data": {
      "text/plain": [
       "income\n",
       "<=50K     24698\n",
       "<=50K.    12430\n",
       ">50K       7839\n",
       ">50K.      3846\n",
       "Name: count, dtype: int64"
      ]
     },
     "execution_count": 29,
     "metadata": {},
     "output_type": "execute_result"
    }
   ],
   "source": [
    "df['income'].value_counts()"
   ]
  },
  {
   "cell_type": "markdown",
   "id": "2ea27bc0-4140-421d-8f12-ebaccd6ecc38",
   "metadata": {},
   "source": [
    "## Count ? as missing:"
   ]
  },
  {
   "cell_type": "code",
   "execution_count": 30,
   "id": "0cdee040-2a18-4938-be4d-f31178874914",
   "metadata": {},
   "outputs": [],
   "source": [
    "# Replacing '?' with NaN for accurate missing data handling\n",
    "columns_with_question = ['workclass', 'occupation', 'native-country']\n",
    "for column in columns_with_question:\n",
    "    df[column] = df[column].replace('?', np.nan)"
   ]
  },
  {
   "cell_type": "markdown",
   "id": "baca3053-7814-48c7-9250-9b6691a01d15",
   "metadata": {},
   "source": [
    "## Recalculate missing values after replacement"
   ]
  },
  {
   "cell_type": "code",
   "execution_count": 31,
   "id": "f573ec40-d415-4535-9dca-a57ba8245dca",
   "metadata": {},
   "outputs": [
    {
     "name": "stdout",
     "output_type": "stream",
     "text": [
      "Updated missing values per column after '?' replacement:\n",
      "age                  0\n",
      "workclass         1836\n",
      "fnlwgt               0\n",
      "education            0\n",
      "education-num        0\n",
      "marital-status       0\n",
      "occupation        1843\n",
      "relationship         0\n",
      "race                 0\n",
      "sex                  0\n",
      "capital-gain         0\n",
      "capital-loss         0\n",
      "hours-per-week       0\n",
      "native-country     582\n",
      "income               0\n",
      "dtype: int64\n"
     ]
    }
   ],
   "source": [
    "missing_data_updated = df.isnull().sum()\n",
    "print(\"Updated missing values per column after '?' replacement:\")\n",
    "print(missing_data_updated)"
   ]
  },
  {
   "cell_type": "code",
   "execution_count": 32,
   "id": "c06a776e-5861-47cf-97d1-b322110c2344",
   "metadata": {},
   "outputs": [
    {
     "name": "stdout",
     "output_type": "stream",
     "text": [
      "Missing values have been filled with the most frequent value.\n"
     ]
    }
   ],
   "source": [
    "for column in columns_with_question:\n",
    "    df[column].fillna(df[column].mode()[0], inplace=True)\n",
    "print(\"Missing values have been filled with the most frequent value.\")"
   ]
  },
  {
   "cell_type": "markdown",
   "id": "1129b982-7484-4c36-a758-bd499b0cc22d",
   "metadata": {},
   "source": [
    "## Correcting Income Feature"
   ]
  },
  {
   "cell_type": "code",
   "execution_count": 33,
   "id": "087c9869-7513-482d-abf5-70a6b35a8c17",
   "metadata": {},
   "outputs": [],
   "source": [
    "# income\n",
    "df.income = df.income.replace('<=50K.', '<=50K')\n",
    "df.income = df.income.replace('>50K.', '>50K')"
   ]
  },
  {
   "cell_type": "code",
   "execution_count": 34,
   "id": "f33aa96b-2726-4db8-9847-abe14f722611",
   "metadata": {},
   "outputs": [
    {
     "data": {
      "text/plain": [
       "income\n",
       "<=50K    37128\n",
       ">50K     11685\n",
       "Name: count, dtype: int64"
      ]
     },
     "execution_count": 34,
     "metadata": {},
     "output_type": "execute_result"
    }
   ],
   "source": [
    "df['income'].value_counts()"
   ]
  },
  {
   "cell_type": "markdown",
   "id": "a34bee75-59b3-4120-bf1a-5703993b58b5",
   "metadata": {},
   "source": [
    "## Copy of Original Data"
   ]
  },
  {
   "cell_type": "code",
   "execution_count": 35,
   "id": "4638e6c9-981f-4a26-8884-8cf97d35cc77",
   "metadata": {},
   "outputs": [],
   "source": [
    "df_copy=df"
   ]
  },
  {
   "cell_type": "code",
   "execution_count": 36,
   "id": "1beb2e8a-7619-445b-9aeb-ea64159b4f2e",
   "metadata": {},
   "outputs": [
    {
     "name": "stdout",
     "output_type": "stream",
     "text": [
      "age                int64\n",
      "workclass         object\n",
      "fnlwgt             int64\n",
      "education         object\n",
      "education-num      int64\n",
      "marital-status    object\n",
      "occupation        object\n",
      "relationship      object\n",
      "race              object\n",
      "sex               object\n",
      "capital-gain       int64\n",
      "capital-loss       int64\n",
      "hours-per-week     int64\n",
      "native-country    object\n",
      "income            object\n",
      "dtype: object\n"
     ]
    }
   ],
   "source": [
    "print(df_copy.dtypes)"
   ]
  },
  {
   "cell_type": "code",
   "execution_count": 37,
   "id": "96fe8ddc-ec95-48c2-a7ca-0174c8202176",
   "metadata": {},
   "outputs": [
    {
     "data": {
      "text/html": [
       "<div>\n",
       "<style scoped>\n",
       "    .dataframe tbody tr th:only-of-type {\n",
       "        vertical-align: middle;\n",
       "    }\n",
       "\n",
       "    .dataframe tbody tr th {\n",
       "        vertical-align: top;\n",
       "    }\n",
       "\n",
       "    .dataframe thead th {\n",
       "        text-align: right;\n",
       "    }\n",
       "</style>\n",
       "<table border=\"1\" class=\"dataframe\">\n",
       "  <thead>\n",
       "    <tr style=\"text-align: right;\">\n",
       "      <th></th>\n",
       "      <th>age</th>\n",
       "      <th>workclass</th>\n",
       "      <th>fnlwgt</th>\n",
       "      <th>education</th>\n",
       "      <th>education-num</th>\n",
       "      <th>marital-status</th>\n",
       "      <th>occupation</th>\n",
       "      <th>relationship</th>\n",
       "      <th>race</th>\n",
       "      <th>sex</th>\n",
       "      <th>capital-gain</th>\n",
       "      <th>capital-loss</th>\n",
       "      <th>hours-per-week</th>\n",
       "      <th>native-country</th>\n",
       "      <th>income</th>\n",
       "    </tr>\n",
       "  </thead>\n",
       "  <tbody>\n",
       "    <tr>\n",
       "      <th>0</th>\n",
       "      <td>39</td>\n",
       "      <td>State-gov</td>\n",
       "      <td>77516</td>\n",
       "      <td>Bachelors</td>\n",
       "      <td>13</td>\n",
       "      <td>Never-married</td>\n",
       "      <td>Adm-clerical</td>\n",
       "      <td>Not-in-family</td>\n",
       "      <td>White</td>\n",
       "      <td>Male</td>\n",
       "      <td>2174</td>\n",
       "      <td>0</td>\n",
       "      <td>40</td>\n",
       "      <td>United-States</td>\n",
       "      <td>&lt;=50K</td>\n",
       "    </tr>\n",
       "    <tr>\n",
       "      <th>1</th>\n",
       "      <td>50</td>\n",
       "      <td>Self-emp-not-inc</td>\n",
       "      <td>83311</td>\n",
       "      <td>Bachelors</td>\n",
       "      <td>13</td>\n",
       "      <td>Married-civ-spouse</td>\n",
       "      <td>Exec-managerial</td>\n",
       "      <td>Husband</td>\n",
       "      <td>White</td>\n",
       "      <td>Male</td>\n",
       "      <td>0</td>\n",
       "      <td>0</td>\n",
       "      <td>13</td>\n",
       "      <td>United-States</td>\n",
       "      <td>&lt;=50K</td>\n",
       "    </tr>\n",
       "    <tr>\n",
       "      <th>2</th>\n",
       "      <td>38</td>\n",
       "      <td>Private</td>\n",
       "      <td>215646</td>\n",
       "      <td>HS-grad</td>\n",
       "      <td>9</td>\n",
       "      <td>Divorced</td>\n",
       "      <td>Handlers-cleaners</td>\n",
       "      <td>Not-in-family</td>\n",
       "      <td>White</td>\n",
       "      <td>Male</td>\n",
       "      <td>0</td>\n",
       "      <td>0</td>\n",
       "      <td>40</td>\n",
       "      <td>United-States</td>\n",
       "      <td>&lt;=50K</td>\n",
       "    </tr>\n",
       "    <tr>\n",
       "      <th>3</th>\n",
       "      <td>53</td>\n",
       "      <td>Private</td>\n",
       "      <td>234721</td>\n",
       "      <td>11th</td>\n",
       "      <td>7</td>\n",
       "      <td>Married-civ-spouse</td>\n",
       "      <td>Handlers-cleaners</td>\n",
       "      <td>Husband</td>\n",
       "      <td>Black</td>\n",
       "      <td>Male</td>\n",
       "      <td>0</td>\n",
       "      <td>0</td>\n",
       "      <td>40</td>\n",
       "      <td>United-States</td>\n",
       "      <td>&lt;=50K</td>\n",
       "    </tr>\n",
       "    <tr>\n",
       "      <th>4</th>\n",
       "      <td>28</td>\n",
       "      <td>Private</td>\n",
       "      <td>338409</td>\n",
       "      <td>Bachelors</td>\n",
       "      <td>13</td>\n",
       "      <td>Married-civ-spouse</td>\n",
       "      <td>Prof-specialty</td>\n",
       "      <td>Wife</td>\n",
       "      <td>Black</td>\n",
       "      <td>Female</td>\n",
       "      <td>0</td>\n",
       "      <td>0</td>\n",
       "      <td>40</td>\n",
       "      <td>Cuba</td>\n",
       "      <td>&lt;=50K</td>\n",
       "    </tr>\n",
       "  </tbody>\n",
       "</table>\n",
       "</div>"
      ],
      "text/plain": [
       "   age         workclass  fnlwgt  education  education-num  \\\n",
       "0   39         State-gov   77516  Bachelors             13   \n",
       "1   50  Self-emp-not-inc   83311  Bachelors             13   \n",
       "2   38           Private  215646    HS-grad              9   \n",
       "3   53           Private  234721       11th              7   \n",
       "4   28           Private  338409  Bachelors             13   \n",
       "\n",
       "       marital-status         occupation   relationship   race     sex  \\\n",
       "0       Never-married       Adm-clerical  Not-in-family  White    Male   \n",
       "1  Married-civ-spouse    Exec-managerial        Husband  White    Male   \n",
       "2            Divorced  Handlers-cleaners  Not-in-family  White    Male   \n",
       "3  Married-civ-spouse  Handlers-cleaners        Husband  Black    Male   \n",
       "4  Married-civ-spouse     Prof-specialty           Wife  Black  Female   \n",
       "\n",
       "   capital-gain  capital-loss  hours-per-week native-country income  \n",
       "0          2174             0              40  United-States  <=50K  \n",
       "1             0             0              13  United-States  <=50K  \n",
       "2             0             0              40  United-States  <=50K  \n",
       "3             0             0              40  United-States  <=50K  \n",
       "4             0             0              40           Cuba  <=50K  "
      ]
     },
     "execution_count": 37,
     "metadata": {},
     "output_type": "execute_result"
    }
   ],
   "source": [
    "df_copy.head()"
   ]
  },
  {
   "cell_type": "code",
   "execution_count": 38,
   "id": "3ba29d70-5364-42ac-b4c0-9c2301eafb37",
   "metadata": {},
   "outputs": [],
   "source": [
    "from sklearn.preprocessing import MinMaxScaler"
   ]
  },
  {
   "cell_type": "code",
   "execution_count": 39,
   "id": "a7ed35e8-41c1-45f4-a017-25e10709d0d4",
   "metadata": {},
   "outputs": [],
   "source": [
    "# Create an instance of MinMaxScaler\n",
    "scaler = MinMaxScaler()"
   ]
  },
  {
   "cell_type": "code",
   "execution_count": 40,
   "id": "45399513-be8d-4764-8aa8-d5dfce3dd209",
   "metadata": {},
   "outputs": [],
   "source": [
    "# Select only the numeric columns\n",
    "numeric_features = df_copy.select_dtypes(include=['int64', 'float64']).columns"
   ]
  },
  {
   "cell_type": "code",
   "execution_count": 41,
   "id": "1de94fc0-46ab-4c10-bad7-f10e404dcb15",
   "metadata": {},
   "outputs": [],
   "source": [
    "# Apply the MinMaxScaler only to the numeric feature columns\n",
    "df_copy[numeric_features] = scaler.fit_transform(df_copy[numeric_features])"
   ]
  },
  {
   "cell_type": "code",
   "execution_count": 42,
   "id": "77f1d7be-cd82-45c2-a4d4-bb71655b7158",
   "metadata": {},
   "outputs": [
    {
     "data": {
      "text/html": [
       "<div>\n",
       "<style scoped>\n",
       "    .dataframe tbody tr th:only-of-type {\n",
       "        vertical-align: middle;\n",
       "    }\n",
       "\n",
       "    .dataframe tbody tr th {\n",
       "        vertical-align: top;\n",
       "    }\n",
       "\n",
       "    .dataframe thead th {\n",
       "        text-align: right;\n",
       "    }\n",
       "</style>\n",
       "<table border=\"1\" class=\"dataframe\">\n",
       "  <thead>\n",
       "    <tr style=\"text-align: right;\">\n",
       "      <th></th>\n",
       "      <th>age</th>\n",
       "      <th>workclass</th>\n",
       "      <th>fnlwgt</th>\n",
       "      <th>education</th>\n",
       "      <th>education-num</th>\n",
       "      <th>marital-status</th>\n",
       "      <th>occupation</th>\n",
       "      <th>relationship</th>\n",
       "      <th>race</th>\n",
       "      <th>sex</th>\n",
       "      <th>capital-gain</th>\n",
       "      <th>capital-loss</th>\n",
       "      <th>hours-per-week</th>\n",
       "      <th>native-country</th>\n",
       "      <th>income</th>\n",
       "    </tr>\n",
       "  </thead>\n",
       "  <tbody>\n",
       "    <tr>\n",
       "      <th>0</th>\n",
       "      <td>0.301370</td>\n",
       "      <td>State-gov</td>\n",
       "      <td>0.044131</td>\n",
       "      <td>Bachelors</td>\n",
       "      <td>0.800000</td>\n",
       "      <td>Never-married</td>\n",
       "      <td>Adm-clerical</td>\n",
       "      <td>Not-in-family</td>\n",
       "      <td>White</td>\n",
       "      <td>Male</td>\n",
       "      <td>0.02174</td>\n",
       "      <td>0.0</td>\n",
       "      <td>0.397959</td>\n",
       "      <td>United-States</td>\n",
       "      <td>&lt;=50K</td>\n",
       "    </tr>\n",
       "    <tr>\n",
       "      <th>1</th>\n",
       "      <td>0.452055</td>\n",
       "      <td>Self-emp-not-inc</td>\n",
       "      <td>0.048052</td>\n",
       "      <td>Bachelors</td>\n",
       "      <td>0.800000</td>\n",
       "      <td>Married-civ-spouse</td>\n",
       "      <td>Exec-managerial</td>\n",
       "      <td>Husband</td>\n",
       "      <td>White</td>\n",
       "      <td>Male</td>\n",
       "      <td>0.00000</td>\n",
       "      <td>0.0</td>\n",
       "      <td>0.122449</td>\n",
       "      <td>United-States</td>\n",
       "      <td>&lt;=50K</td>\n",
       "    </tr>\n",
       "    <tr>\n",
       "      <th>2</th>\n",
       "      <td>0.287671</td>\n",
       "      <td>Private</td>\n",
       "      <td>0.137581</td>\n",
       "      <td>HS-grad</td>\n",
       "      <td>0.533333</td>\n",
       "      <td>Divorced</td>\n",
       "      <td>Handlers-cleaners</td>\n",
       "      <td>Not-in-family</td>\n",
       "      <td>White</td>\n",
       "      <td>Male</td>\n",
       "      <td>0.00000</td>\n",
       "      <td>0.0</td>\n",
       "      <td>0.397959</td>\n",
       "      <td>United-States</td>\n",
       "      <td>&lt;=50K</td>\n",
       "    </tr>\n",
       "    <tr>\n",
       "      <th>3</th>\n",
       "      <td>0.493151</td>\n",
       "      <td>Private</td>\n",
       "      <td>0.150486</td>\n",
       "      <td>11th</td>\n",
       "      <td>0.400000</td>\n",
       "      <td>Married-civ-spouse</td>\n",
       "      <td>Handlers-cleaners</td>\n",
       "      <td>Husband</td>\n",
       "      <td>Black</td>\n",
       "      <td>Male</td>\n",
       "      <td>0.00000</td>\n",
       "      <td>0.0</td>\n",
       "      <td>0.397959</td>\n",
       "      <td>United-States</td>\n",
       "      <td>&lt;=50K</td>\n",
       "    </tr>\n",
       "    <tr>\n",
       "      <th>4</th>\n",
       "      <td>0.150685</td>\n",
       "      <td>Private</td>\n",
       "      <td>0.220635</td>\n",
       "      <td>Bachelors</td>\n",
       "      <td>0.800000</td>\n",
       "      <td>Married-civ-spouse</td>\n",
       "      <td>Prof-specialty</td>\n",
       "      <td>Wife</td>\n",
       "      <td>Black</td>\n",
       "      <td>Female</td>\n",
       "      <td>0.00000</td>\n",
       "      <td>0.0</td>\n",
       "      <td>0.397959</td>\n",
       "      <td>Cuba</td>\n",
       "      <td>&lt;=50K</td>\n",
       "    </tr>\n",
       "  </tbody>\n",
       "</table>\n",
       "</div>"
      ],
      "text/plain": [
       "        age         workclass    fnlwgt  education  education-num  \\\n",
       "0  0.301370         State-gov  0.044131  Bachelors       0.800000   \n",
       "1  0.452055  Self-emp-not-inc  0.048052  Bachelors       0.800000   \n",
       "2  0.287671           Private  0.137581    HS-grad       0.533333   \n",
       "3  0.493151           Private  0.150486       11th       0.400000   \n",
       "4  0.150685           Private  0.220635  Bachelors       0.800000   \n",
       "\n",
       "       marital-status         occupation   relationship   race     sex  \\\n",
       "0       Never-married       Adm-clerical  Not-in-family  White    Male   \n",
       "1  Married-civ-spouse    Exec-managerial        Husband  White    Male   \n",
       "2            Divorced  Handlers-cleaners  Not-in-family  White    Male   \n",
       "3  Married-civ-spouse  Handlers-cleaners        Husband  Black    Male   \n",
       "4  Married-civ-spouse     Prof-specialty           Wife  Black  Female   \n",
       "\n",
       "   capital-gain  capital-loss  hours-per-week native-country income  \n",
       "0       0.02174           0.0        0.397959  United-States  <=50K  \n",
       "1       0.00000           0.0        0.122449  United-States  <=50K  \n",
       "2       0.00000           0.0        0.397959  United-States  <=50K  \n",
       "3       0.00000           0.0        0.397959  United-States  <=50K  \n",
       "4       0.00000           0.0        0.397959           Cuba  <=50K  "
      ]
     },
     "execution_count": 42,
     "metadata": {},
     "output_type": "execute_result"
    }
   ],
   "source": [
    "df_copy.head()"
   ]
  },
  {
   "cell_type": "markdown",
   "id": "bb693cf6-e1cd-41a6-a755-5779c68c92e4",
   "metadata": {},
   "source": [
    "## Labeling the target variable"
   ]
  },
  {
   "cell_type": "code",
   "execution_count": 43,
   "id": "8b921760-47af-49e8-9099-ee5026fdc21f",
   "metadata": {},
   "outputs": [],
   "source": [
    "# income\n",
    "df_copy.income = df_copy.income.replace('<=50K', 0)\n",
    "df_copy.income = df_copy.income.replace('>50K', 1)"
   ]
  },
  {
   "cell_type": "markdown",
   "id": "0326ec2a-9be8-409c-b884-a32549baa923",
   "metadata": {},
   "source": [
    "## Identify independent variables (all columns except 'income') and the dependent variable ('income')"
   ]
  },
  {
   "cell_type": "code",
   "execution_count": 44,
   "id": "9968816b-4eb2-4e9e-8da4-ee78cdf80449",
   "metadata": {},
   "outputs": [],
   "source": [
    "X = df_copy.columns[:-1]  # Assuming 'income' is the last column\n",
    "y = df_copy.columns[-1]"
   ]
  },
  {
   "cell_type": "markdown",
   "id": "2563a041-d1ad-45a1-b4da-da9b025b0f29",
   "metadata": {},
   "source": [
    "## Feature Scaling"
   ]
  },
  {
   "cell_type": "code",
   "execution_count": 45,
   "id": "2810df33-7264-42aa-9d5d-72f6b36050f3",
   "metadata": {},
   "outputs": [],
   "source": [
    "from sklearn.preprocessing import StandardScaler, LabelEncoder"
   ]
  },
  {
   "cell_type": "code",
   "execution_count": 46,
   "id": "1fe60fbe-9f37-4f1b-bc7b-d654d05e34d4",
   "metadata": {},
   "outputs": [
    {
     "data": {
      "text/html": [
       "<div>\n",
       "<style scoped>\n",
       "    .dataframe tbody tr th:only-of-type {\n",
       "        vertical-align: middle;\n",
       "    }\n",
       "\n",
       "    .dataframe tbody tr th {\n",
       "        vertical-align: top;\n",
       "    }\n",
       "\n",
       "    .dataframe thead th {\n",
       "        text-align: right;\n",
       "    }\n",
       "</style>\n",
       "<table border=\"1\" class=\"dataframe\">\n",
       "  <thead>\n",
       "    <tr style=\"text-align: right;\">\n",
       "      <th></th>\n",
       "      <th>age</th>\n",
       "      <th>workclass</th>\n",
       "      <th>fnlwgt</th>\n",
       "      <th>education</th>\n",
       "      <th>education-num</th>\n",
       "      <th>marital-status</th>\n",
       "      <th>occupation</th>\n",
       "      <th>relationship</th>\n",
       "      <th>race</th>\n",
       "      <th>sex</th>\n",
       "      <th>capital-gain</th>\n",
       "      <th>capital-loss</th>\n",
       "      <th>hours-per-week</th>\n",
       "      <th>native-country</th>\n",
       "      <th>income</th>\n",
       "    </tr>\n",
       "  </thead>\n",
       "  <tbody>\n",
       "    <tr>\n",
       "      <th>0</th>\n",
       "      <td>22</td>\n",
       "      <td>6</td>\n",
       "      <td>3461</td>\n",
       "      <td>9</td>\n",
       "      <td>12</td>\n",
       "      <td>4</td>\n",
       "      <td>0</td>\n",
       "      <td>1</td>\n",
       "      <td>4</td>\n",
       "      <td>1</td>\n",
       "      <td>27</td>\n",
       "      <td>0</td>\n",
       "      <td>39</td>\n",
       "      <td>38</td>\n",
       "      <td>0</td>\n",
       "    </tr>\n",
       "    <tr>\n",
       "      <th>1</th>\n",
       "      <td>33</td>\n",
       "      <td>5</td>\n",
       "      <td>3788</td>\n",
       "      <td>9</td>\n",
       "      <td>12</td>\n",
       "      <td>2</td>\n",
       "      <td>3</td>\n",
       "      <td>0</td>\n",
       "      <td>4</td>\n",
       "      <td>1</td>\n",
       "      <td>0</td>\n",
       "      <td>0</td>\n",
       "      <td>12</td>\n",
       "      <td>38</td>\n",
       "      <td>0</td>\n",
       "    </tr>\n",
       "    <tr>\n",
       "      <th>2</th>\n",
       "      <td>21</td>\n",
       "      <td>3</td>\n",
       "      <td>18342</td>\n",
       "      <td>11</td>\n",
       "      <td>8</td>\n",
       "      <td>0</td>\n",
       "      <td>5</td>\n",
       "      <td>1</td>\n",
       "      <td>4</td>\n",
       "      <td>1</td>\n",
       "      <td>0</td>\n",
       "      <td>0</td>\n",
       "      <td>39</td>\n",
       "      <td>38</td>\n",
       "      <td>0</td>\n",
       "    </tr>\n",
       "    <tr>\n",
       "      <th>3</th>\n",
       "      <td>36</td>\n",
       "      <td>3</td>\n",
       "      <td>19995</td>\n",
       "      <td>1</td>\n",
       "      <td>6</td>\n",
       "      <td>2</td>\n",
       "      <td>5</td>\n",
       "      <td>0</td>\n",
       "      <td>2</td>\n",
       "      <td>1</td>\n",
       "      <td>0</td>\n",
       "      <td>0</td>\n",
       "      <td>39</td>\n",
       "      <td>38</td>\n",
       "      <td>0</td>\n",
       "    </tr>\n",
       "    <tr>\n",
       "      <th>4</th>\n",
       "      <td>11</td>\n",
       "      <td>3</td>\n",
       "      <td>25405</td>\n",
       "      <td>9</td>\n",
       "      <td>12</td>\n",
       "      <td>2</td>\n",
       "      <td>9</td>\n",
       "      <td>5</td>\n",
       "      <td>2</td>\n",
       "      <td>0</td>\n",
       "      <td>0</td>\n",
       "      <td>0</td>\n",
       "      <td>39</td>\n",
       "      <td>4</td>\n",
       "      <td>0</td>\n",
       "    </tr>\n",
       "  </tbody>\n",
       "</table>\n",
       "</div>"
      ],
      "text/plain": [
       "   age  workclass  fnlwgt  education  education-num  marital-status  \\\n",
       "0   22          6    3461          9             12               4   \n",
       "1   33          5    3788          9             12               2   \n",
       "2   21          3   18342         11              8               0   \n",
       "3   36          3   19995          1              6               2   \n",
       "4   11          3   25405          9             12               2   \n",
       "\n",
       "   occupation  relationship  race  sex  capital-gain  capital-loss  \\\n",
       "0           0             1     4    1            27             0   \n",
       "1           3             0     4    1             0             0   \n",
       "2           5             1     4    1             0             0   \n",
       "3           5             0     2    1             0             0   \n",
       "4           9             5     2    0             0             0   \n",
       "\n",
       "   hours-per-week  native-country  income  \n",
       "0              39              38       0  \n",
       "1              12              38       0  \n",
       "2              39              38       0  \n",
       "3              39              38       0  \n",
       "4              39               4       0  "
      ]
     },
     "execution_count": 46,
     "metadata": {},
     "output_type": "execute_result"
    }
   ],
   "source": [
    "df1= df_copy.copy()\n",
    "df1= df1.apply(LabelEncoder().fit_transform)\n",
    "df1.head()"
   ]
  },
  {
   "cell_type": "code",
   "execution_count": 47,
   "id": "27f71a69-4b15-4aaa-93c2-f3c3dda84fde",
   "metadata": {},
   "outputs": [],
   "source": [
    "ss= StandardScaler().fit(df1.drop('income', axis=1))"
   ]
  },
  {
   "cell_type": "code",
   "execution_count": 48,
   "id": "c20437e1-6104-47b9-b55b-9c1a1764ff68",
   "metadata": {},
   "outputs": [],
   "source": [
    "X= ss.transform(df1.drop('income', axis=1))\n",
    "y= df_copy['income']"
   ]
  },
  {
   "cell_type": "markdown",
   "id": "bd47bcec-99eb-4c17-8eda-53e21087017f",
   "metadata": {},
   "source": [
    "# Splitting data into training and testing sets"
   ]
  },
  {
   "cell_type": "code",
   "execution_count": 49,
   "id": "0b402e8e-345d-47be-8a8e-cbba1aa5d900",
   "metadata": {},
   "outputs": [],
   "source": [
    "from sklearn.model_selection import train_test_split"
   ]
  },
  {
   "cell_type": "code",
   "execution_count": 50,
   "id": "955c1092-2119-4e86-b4d3-93060984bea3",
   "metadata": {},
   "outputs": [],
   "source": [
    "X_train, X_test, y_train, y_test = train_test_split(X, y, test_size=0.3, random_state=42)"
   ]
  },
  {
   "cell_type": "markdown",
   "id": "f17231a3-940e-48f9-9514-a93b070e921b",
   "metadata": {},
   "source": [
    "# Print the number of records in the training and testing data"
   ]
  },
  {
   "cell_type": "code",
   "execution_count": 53,
   "id": "802592fc-a5d9-44d9-9454-a43ed1098642",
   "metadata": {},
   "outputs": [
    {
     "name": "stdout",
     "output_type": "stream",
     "text": [
      "Training records: 34169, Testing records: 14644\n"
     ]
    }
   ],
   "source": [
    "print(f\"Training records: {len(X_train)}, Testing records: {len(X_test)}\")"
   ]
  },
  {
   "cell_type": "markdown",
   "id": "096fe3c4-6964-48a3-b238-3f74d9ef25ee",
   "metadata": {},
   "source": [
    "# Save training data to CSV"
   ]
  },
  {
   "cell_type": "code",
   "execution_count": null,
   "id": "d00996b0-1e5d-43d1-8ea7-e60c5f9a8356",
   "metadata": {},
   "outputs": [],
   "source": [
    "# # Convert X_train and y_train into pandas DataFrame if they are not already\n",
    "# X_train_df = pd.DataFrame(X_train, columns=[list of your feature names])  # Replace [list of your feature names] with actual column names\n",
    "# y_train_df = pd.DataFrame(y_train, columns=['income'])  # Assuming 'income' is the target column name"
   ]
  },
  {
   "cell_type": "code",
   "execution_count": 54,
   "id": "96540d6d-e316-44d8-bf76-e91a62260202",
   "metadata": {},
   "outputs": [
    {
     "name": "stdout",
     "output_type": "stream",
     "text": [
      "Training data has been saved to 'cencus_training_data.csv'.\n"
     ]
    }
   ],
   "source": [
    "train_data = pd.concat([ pd.DataFrame(X_train),  pd.DataFrame(y_train)], axis=1)\n",
    "train_data.to_csv('cencus_training_data.csv', index=False)\n",
    "print(\"Training data has been saved to 'cencus_training_data.csv'.\")"
   ]
  },
  {
   "cell_type": "markdown",
   "id": "bcc272e1-76a0-49cd-a9de-9c9ddc141c48",
   "metadata": {},
   "source": [
    "# Save testing data to CSV"
   ]
  },
  {
   "cell_type": "code",
   "execution_count": 55,
   "id": "51ee9142-98d6-4276-bb6f-d20dd55e672b",
   "metadata": {},
   "outputs": [
    {
     "name": "stdout",
     "output_type": "stream",
     "text": [
      "Testing data has been saved to 'cencus_testing_data.csv'.\n"
     ]
    }
   ],
   "source": [
    "test_data = pd.concat([pd.DataFrame(X_test), pd.DataFrame(y_test)], axis=1)\n",
    "test_data.to_csv('cencus_testing_data.csv', index=False)\n",
    "print(\"Testing data has been saved to 'cencus_testing_data.csv'.\")"
   ]
  },
  {
   "cell_type": "markdown",
   "id": "e4f97b89-a5b7-4d5b-83fc-2c892cc12732",
   "metadata": {},
   "source": [
    "# Logistic Regression"
   ]
  },
  {
   "cell_type": "code",
   "execution_count": 56,
   "id": "4179327c-6373-4826-a489-4105eacbc6ba",
   "metadata": {},
   "outputs": [],
   "source": [
    "from sklearn.linear_model import LogisticRegression\n",
    "from sklearn.metrics import accuracy_score"
   ]
  },
  {
   "cell_type": "code",
   "execution_count": 57,
   "id": "743a957d-5784-4df9-b44b-16582218f2b3",
   "metadata": {},
   "outputs": [],
   "source": [
    "# Initializing the Logistic Regression model\n",
    "log_reg = LogisticRegression(max_iter=1000)"
   ]
  },
  {
   "cell_type": "code",
   "execution_count": 58,
   "id": "2435b783-68ab-4765-bfc1-33de06794dbd",
   "metadata": {},
   "outputs": [],
   "source": [
    "# Fitting the model\n",
    "model=log_reg.fit(X_train, y_train)"
   ]
  },
  {
   "cell_type": "code",
   "execution_count": 59,
   "id": "6dcb3d8c-6ecb-449e-b857-0b3a6ec1d4b8",
   "metadata": {},
   "outputs": [],
   "source": [
    "# Predict on the test data\n",
    "model_predictions = model.predict(X_test)"
   ]
  },
  {
   "cell_type": "code",
   "execution_count": 62,
   "id": "627fddc0-b8b0-44d5-b64c-98a68ac776c4",
   "metadata": {},
   "outputs": [
    {
     "name": "stdout",
     "output_type": "stream",
     "text": [
      "Accuracy on training data: 0.823\n",
      "Accuracy on test data: 0.824\n"
     ]
    }
   ],
   "source": [
    "print(\"Accuracy on training data: {:,.3f}\".format(log_reg.score(X_train, y_train)))\n",
    "print(\"Accuracy on test data: {:,.3f}\".format(log_reg.score(X_test, y_test)))"
   ]
  },
  {
   "cell_type": "code",
   "execution_count": 63,
   "id": "e476a04d-ff29-4e9d-b751-1ee9ee32743b",
   "metadata": {},
   "outputs": [],
   "source": [
    "from sklearn.metrics import accuracy_score, classification_report"
   ]
  },
  {
   "cell_type": "code",
   "execution_count": 65,
   "id": "ca136036-654f-4f85-8b00-e6f710f8ced2",
   "metadata": {},
   "outputs": [
    {
     "name": "stdout",
     "output_type": "stream",
     "text": [
      "Logistic Regression Accuracy: 0.8242283529090413\n",
      "Classification Report:\n",
      "               precision    recall  f1-score   support\n",
      "\n",
      "           0       0.84      0.95      0.89     11078\n",
      "           1       0.73      0.45      0.55      3566\n",
      "\n",
      "    accuracy                           0.82     14644\n",
      "   macro avg       0.78      0.70      0.72     14644\n",
      "weighted avg       0.81      0.82      0.81     14644\n",
      "\n"
     ]
    }
   ],
   "source": [
    "# Evaluate the model\n",
    "model_accuracy = accuracy_score(y_test, model_predictions)\n",
    "print(\"Logistic Regression Accuracy:\", model_accuracy)\n",
    "print(\"Classification Report:\\n\", classification_report(y_test, model_predictions))"
   ]
  },
  {
   "cell_type": "markdown",
   "id": "7c423630-134d-4bce-84f9-5ba5cb7918aa",
   "metadata": {},
   "source": [
    "##### The model accuracy is approximately 82.42%, which is a decent starting point "
   ]
  },
  {
   "cell_type": "markdown",
   "id": "4539e6a5-ca3e-4f16-9c6b-936caed6dc24",
   "metadata": {},
   "source": [
    "### Class '0' : income <=50K"
   ]
  },
  {
   "cell_type": "markdown",
   "id": "761c892f-3905-4582-851b-9db6b612c8c5",
   "metadata": {},
   "source": [
    "Precision: 0.84 - This indicates that 84% of the instances predicted as class 0 were actually class 0."
   ]
  },
  {
   "cell_type": "markdown",
   "id": "8d33fdce-0db9-43a5-8548-b92886d7c72a",
   "metadata": {},
   "source": [
    "Recall: 0.95 - This indicates that the model captured 95% of actual class 0 instances."
   ]
  },
  {
   "cell_type": "markdown",
   "id": "b741fb43-7b22-46da-9272-71f26ee4539e",
   "metadata": {},
   "source": [
    "f1-score: 0.89 - This is a high F1 score, which is a harmonic mean of precision and recall, indicating good performance for class 0."
   ]
  },
  {
   "cell_type": "markdown",
   "id": "387fed5e-4e1a-488c-b1c0-be04e677eaac",
   "metadata": {},
   "source": [
    "Support: 11078 instances"
   ]
  },
  {
   "cell_type": "markdown",
   "id": "bc85f66a-6d8f-428f-9585-ecd4bf028264",
   "metadata": {},
   "source": [
    "### Class '1' : income >50K"
   ]
  },
  {
   "cell_type": "markdown",
   "id": "eaf15254-dac9-4d25-aa8f-09a77337a67f",
   "metadata": {},
   "source": [
    "Precision: 0.73 - This indicates that 73% of the instances predicted as class 1 were actually class 1."
   ]
  },
  {
   "cell_type": "markdown",
   "id": "70274fff-1b84-42b8-bab0-80151db22b76",
   "metadata": {},
   "source": [
    "Recall: 0.45 - This shows a relatively low value, meaning the model only captured 45% of actual class 1 instances."
   ]
  },
  {
   "cell_type": "markdown",
   "id": "4883dc42-ea16-434c-8aa0-5e62c15244c2",
   "metadata": {},
   "source": [
    "f1-score: 0.55 - This score is moderately low, reflecting the low recall rate for class 1."
   ]
  },
  {
   "cell_type": "markdown",
   "id": "2ad81bb2-bf92-4825-9d5b-f0a5c3f4ae7b",
   "metadata": {},
   "source": [
    "Support: 3566 instances"
   ]
  },
  {
   "cell_type": "markdown",
   "id": "903ae865-8f88-44ad-8794-67e6025f3d60",
   "metadata": {},
   "source": [
    "##### The support values indicate a significant class imbalance as there are more instances of class 0 than class 1"
   ]
  },
  {
   "cell_type": "markdown",
   "id": "9b181523-3e27-41fa-9830-b0e30481beb3",
   "metadata": {},
   "source": [
    "##### either oversampling the class '1' or undersampling the class '0' could be considered"
   ]
  },
  {
   "cell_type": "markdown",
   "id": "0d5321b1-a034-4021-80b3-c70865c9da0f",
   "metadata": {},
   "source": [
    "## Random Forest"
   ]
  },
  {
   "cell_type": "code",
   "execution_count": 66,
   "id": "059fbe90-2bef-4cf8-9c65-e6b8537fcddd",
   "metadata": {},
   "outputs": [
    {
     "name": "stdout",
     "output_type": "stream",
     "text": [
      "Acc on training data: 1.000\n",
      "Acc on test data: 0.855\n"
     ]
    }
   ],
   "source": [
    "from sklearn.ensemble import RandomForestClassifier\n",
    "\n",
    "rfc = RandomForestClassifier()\n",
    "\n",
    "model1 = rfc.fit(X_train, y_train)\n",
    "prediction1 = model1.predict(X_test)\n",
    "\n",
    "print(\"Acc on training data: {:,.3f}\".format(rfc.score(X_train, y_train)))\n",
    "print(\"Acc on test data: {:,.3f}\".format(rfc.score(X_test, y_test)))"
   ]
  },
  {
   "cell_type": "code",
   "execution_count": 67,
   "id": "a8ef66ba-d32b-4fe5-89c3-cf0318f280b1",
   "metadata": {},
   "outputs": [
    {
     "name": "stdout",
     "output_type": "stream",
     "text": [
      "Random Forest Accuracy: 0.8548210871346626\n",
      "Random Forest Classification Report:\n",
      "               precision    recall  f1-score   support\n",
      "\n",
      "           0       0.88      0.93      0.91     11078\n",
      "           1       0.75      0.61      0.67      3566\n",
      "\n",
      "    accuracy                           0.85     14644\n",
      "   macro avg       0.81      0.77      0.79     14644\n",
      "weighted avg       0.85      0.85      0.85     14644\n",
      "\n"
     ]
    }
   ],
   "source": [
    "# Evaluate Random Forest\n",
    "print(\"Random Forest Accuracy:\", accuracy_score(y_test, prediction1))\n",
    "print(\"Random Forest Classification Report:\\n\", classification_report(y_test, prediction1))"
   ]
  },
  {
   "cell_type": "markdown",
   "id": "fc35ee9c-affb-4978-b24d-40460174ce40",
   "metadata": {},
   "source": [
    "##### The overall accuracy of the Random Forest model is about 85.48%, which is an improvement over the Logistic Regression model"
   ]
  },
  {
   "cell_type": "markdown",
   "id": "c42d2e51-fca1-4245-84a3-cc532af8f38b",
   "metadata": {},
   "source": [
    "### Class '0' : income <=50K"
   ]
  },
  {
   "cell_type": "markdown",
   "id": "bb798b77-b072-4e46-a6b8-b787f4d8cca2",
   "metadata": {},
   "source": [
    "Precision: 0.88 - A high value indicating that 88% of the predictions for class 0 are correct."
   ]
  },
  {
   "cell_type": "markdown",
   "id": "a2e9abd9-43db-433b-8341-aa578db0aace",
   "metadata": {},
   "source": [
    "Recall: 0.93 - A high value showing that the model identifies 93% of all actual class 0 instances."
   ]
  },
  {
   "cell_type": "markdown",
   "id": "d6683ca7-c911-4e67-8306-23e1dd2be268",
   "metadata": {},
   "source": [
    "F1-Score: 0.91 - A strong score showing the balance between precision and recall."
   ]
  },
  {
   "cell_type": "markdown",
   "id": "d0f351b8-8079-48d6-975b-071009f08f3d",
   "metadata": {},
   "source": [
    "Support: 11078 instances"
   ]
  },
  {
   "cell_type": "markdown",
   "id": "4dcb8039-a1e4-40fb-be36-d465f7238c95",
   "metadata": {},
   "source": [
    "### Class '1' : income >50K"
   ]
  },
  {
   "cell_type": "markdown",
   "id": "2ab64eb3-5724-4a1e-aa0b-33047ffc1dd9",
   "metadata": {},
   "source": [
    "Precision: 0.75 - Suggests that 75% of the model's class 1 predictions are correct."
   ]
  },
  {
   "cell_type": "markdown",
   "id": "c65fa340-85db-4ef4-9a48-826c8b7efaea",
   "metadata": {},
   "source": [
    "Recall: 0.61 - Indicates the model identifies 61% of all actual class 1 instances, which is moderately good but could be improved."
   ]
  },
  {
   "cell_type": "markdown",
   "id": "47147fc4-5a27-4e2a-a983-3361962aa2b2",
   "metadata": {},
   "source": [
    "F1-Score: 0.67 - Reflects a moderate balance between precision and recall for class 1."
   ]
  },
  {
   "cell_type": "markdown",
   "id": "3d2cd8c4-5ce5-4700-a09c-8143e3e4e68c",
   "metadata": {},
   "source": [
    "Support: 3566  instances , indicating class imbalance similar to what was observed in the logistic regression model."
   ]
  },
  {
   "cell_type": "code",
   "execution_count": null,
   "id": "997bd68a-5f6a-4eff-a4cc-b1cc29255d94",
   "metadata": {},
   "outputs": [],
   "source": []
  }
 ],
 "metadata": {
  "kernelspec": {
   "display_name": "Python 3 (ipykernel)",
   "language": "python",
   "name": "python3"
  },
  "language_info": {
   "codemirror_mode": {
    "name": "ipython",
    "version": 3
   },
   "file_extension": ".py",
   "mimetype": "text/x-python",
   "name": "python",
   "nbconvert_exporter": "python",
   "pygments_lexer": "ipython3",
   "version": "3.12.2"
  }
 },
 "nbformat": 4,
 "nbformat_minor": 5
}
